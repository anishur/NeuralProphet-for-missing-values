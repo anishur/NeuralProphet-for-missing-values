{
 "cells": [
  {
   "cell_type": "code",
   "execution_count": 1,
   "metadata": {},
   "outputs": [],
   "source": [
    "import pandas as pd\n",
    "import numpy as np\n",
    "from neuralprophet import NeuralProphet\n",
    "import pickle\n",
    "from datetime import datetime\n",
    "from matplotlib.pyplot import *\n",
    "import matplotlib.pylab as plt\n",
    "import seaborn as sns\n",
    "plt.close(\"all\")\n",
    "import matplotlib.ticker as mticker\n",
    "import matplotlib.dates as mdates\n",
    "%matplotlib inline"
   ]
  },
  {
   "cell_type": "code",
   "execution_count": 2,
   "metadata": {},
   "outputs": [
    {
     "data": {
      "text/html": [
       "<div>\n",
       "<style scoped>\n",
       "    .dataframe tbody tr th:only-of-type {\n",
       "        vertical-align: middle;\n",
       "    }\n",
       "\n",
       "    .dataframe tbody tr th {\n",
       "        vertical-align: top;\n",
       "    }\n",
       "\n",
       "    .dataframe thead th {\n",
       "        text-align: right;\n",
       "    }\n",
       "</style>\n",
       "<table border=\"1\" class=\"dataframe\">\n",
       "  <thead>\n",
       "    <tr style=\"text-align: right;\">\n",
       "      <th></th>\n",
       "      <th>Timestamp</th>\n",
       "      <th>humidity</th>\n",
       "    </tr>\n",
       "  </thead>\n",
       "  <tbody>\n",
       "    <tr>\n",
       "      <th>0</th>\n",
       "      <td>6/2/21 16:00</td>\n",
       "      <td>78</td>\n",
       "    </tr>\n",
       "    <tr>\n",
       "      <th>1</th>\n",
       "      <td>6/2/21 16:10</td>\n",
       "      <td>78</td>\n",
       "    </tr>\n",
       "    <tr>\n",
       "      <th>2</th>\n",
       "      <td>6/2/21 16:20</td>\n",
       "      <td>78</td>\n",
       "    </tr>\n",
       "    <tr>\n",
       "      <th>3</th>\n",
       "      <td>6/2/21 16:30</td>\n",
       "      <td>78</td>\n",
       "    </tr>\n",
       "    <tr>\n",
       "      <th>4</th>\n",
       "      <td>6/2/21 16:40</td>\n",
       "      <td>78</td>\n",
       "    </tr>\n",
       "    <tr>\n",
       "      <th>5</th>\n",
       "      <td>6/2/21 16:50</td>\n",
       "      <td>78</td>\n",
       "    </tr>\n",
       "    <tr>\n",
       "      <th>6</th>\n",
       "      <td>6/2/21 17:00</td>\n",
       "      <td>78</td>\n",
       "    </tr>\n",
       "    <tr>\n",
       "      <th>7</th>\n",
       "      <td>6/2/21 17:10</td>\n",
       "      <td>73</td>\n",
       "    </tr>\n",
       "    <tr>\n",
       "      <th>8</th>\n",
       "      <td>6/2/21 17:20</td>\n",
       "      <td>73</td>\n",
       "    </tr>\n",
       "    <tr>\n",
       "      <th>9</th>\n",
       "      <td>6/2/21 17:30</td>\n",
       "      <td>73</td>\n",
       "    </tr>\n",
       "  </tbody>\n",
       "</table>\n",
       "</div>"
      ],
      "text/plain": [
       "      Timestamp  humidity\n",
       "0  6/2/21 16:00        78\n",
       "1  6/2/21 16:10        78\n",
       "2  6/2/21 16:20        78\n",
       "3  6/2/21 16:30        78\n",
       "4  6/2/21 16:40        78\n",
       "5  6/2/21 16:50        78\n",
       "6  6/2/21 17:00        78\n",
       "7  6/2/21 17:10        73\n",
       "8  6/2/21 17:20        73\n",
       "9  6/2/21 17:30        73"
      ]
     },
     "execution_count": 2,
     "metadata": {},
     "output_type": "execute_result"
    }
   ],
   "source": [
    "#Neural Network \"read-csv-file-to-fill-up-missing-value\" cell-- 01\n",
    "\n",
    "df = pd.read_csv('humidity_room3_datetime.csv')\n",
    "\n",
    "df.head(10)"
   ]
  },
  {
   "cell_type": "code",
   "execution_count": 3,
   "metadata": {},
   "outputs": [
    {
     "name": "stdout",
     "output_type": "stream",
     "text": [
      "          Timestamp  humidity\n",
      "2735  23/6/21 18:50        30\n",
      "2736  23/6/21 19:00        31\n",
      "2737  23/6/21 19:10        31\n",
      "2738  23/6/21 19:20        31\n",
      "2739  23/6/21 19:30        31\n",
      "<class 'pandas.core.frame.DataFrame'>\n",
      "RangeIndex: 2740 entries, 0 to 2739\n",
      "Data columns (total 2 columns):\n",
      " #   Column     Non-Null Count  Dtype \n",
      "---  ------     --------------  ----- \n",
      " 0   Timestamp  2740 non-null   object\n",
      " 1   humidity   2740 non-null   int64 \n",
      "dtypes: int64(1), object(1)\n",
      "memory usage: 42.9+ KB\n"
     ]
    }
   ],
   "source": [
    "#Neural Network \"print-dataframe\" cell-- 02\n",
    "\n",
    "print(df.tail())\n",
    "df.info()"
   ]
  },
  {
   "cell_type": "code",
   "execution_count": 4,
   "metadata": {},
   "outputs": [
    {
     "data": {
      "text/plain": [
       "(2740, 2)"
      ]
     },
     "execution_count": 4,
     "metadata": {},
     "output_type": "execute_result"
    }
   ],
   "source": [
    "#Neural Network cell-- 03 \n",
    "\n",
    "df_per_day = df[['Timestamp','humidity']] \n",
    "df_per_day.shape"
   ]
  },
  {
   "cell_type": "code",
   "execution_count": 5,
   "metadata": {},
   "outputs": [],
   "source": [
    "#Neural Network \"Rename-columns\" cell-- 04\n",
    "\n",
    "df_per_day.rename(columns={\"Timestamp\":\"ds\",\"humidity\":\"y\"}, inplace=True)"
   ]
  },
  {
   "cell_type": "code",
   "execution_count": 6,
   "metadata": {},
   "outputs": [],
   "source": [
    "#Neural Network \"train-test\" cell-- 05\n",
    "\n",
    "#train = df_per_day[:219]\n",
    "train = df_per_day[:]\n",
    "test = df_per_day[219:]\n",
    "#train.tail()"
   ]
  },
  {
   "cell_type": "code",
   "execution_count": 7,
   "metadata": {},
   "outputs": [],
   "source": [
    "#Neural Network \"NeuralProphet-algorithm\" cell-- 06\n",
    "\n",
    "#Model \n",
    "\n",
    "m = NeuralProphet()"
   ]
  },
  {
   "cell_type": "code",
   "execution_count": 8,
   "metadata": {},
   "outputs": [
    {
     "name": "stderr",
     "output_type": "stream",
     "text": [
      "INFO - (NP.utils.set_auto_seasonalities) - Disabling yearly seasonality. Run NeuralProphet with yearly_seasonality=True to override this.\n",
      "INFO - (NP.config.set_auto_batch_epoch) - Auto-set batch_size to 32\n"
     ]
    },
    {
     "data": {
      "application/vnd.jupyter.widget-view+json": {
       "model_id": "89e8c8bcd6e34f39afd461a5044c392a",
       "version_major": 2,
       "version_minor": 0
      },
      "text/plain": [
       "HBox(children=(HTML(value=''), FloatProgress(value=0.0, max=271.0), HTML(value='')))"
      ]
     },
     "metadata": {},
     "output_type": "display_data"
    },
    {
     "name": "stderr",
     "output_type": "stream",
     "text": [
      "INFO - (NP.utils_torch.lr_range_test) - lr-range-test results: steep: 3.47E-02, min: 5.70E-01\n",
      "INFO - (NP.utils_torch.lr_range_test) - learning rate range test selected lr: 2.24E-01\n",
      "Epoch[1000/1000]: 100%|█████████| 1000/1000 [02:51<00:00,  5.83it/s, SmoothL1Loss=0.00338, MAE=4.93, MSE=39, RegLoss=0]\n"
     ]
    }
   ],
   "source": [
    "#Neural Network \"Run-Model\" cell-- 07\n",
    "\n",
    "#Fit Model\n",
    "\n",
    "model = m.fit(train, freq='D', epochs=1000)"
   ]
  },
  {
   "cell_type": "code",
   "execution_count": 9,
   "metadata": {},
   "outputs": [
    {
     "data": {
      "text/html": [
       "<div>\n",
       "<style scoped>\n",
       "    .dataframe tbody tr th:only-of-type {\n",
       "        vertical-align: middle;\n",
       "    }\n",
       "\n",
       "    .dataframe tbody tr th {\n",
       "        vertical-align: top;\n",
       "    }\n",
       "\n",
       "    .dataframe thead th {\n",
       "        text-align: right;\n",
       "    }\n",
       "</style>\n",
       "<table border=\"1\" class=\"dataframe\">\n",
       "  <thead>\n",
       "    <tr style=\"text-align: right;\">\n",
       "      <th></th>\n",
       "      <th>ds</th>\n",
       "      <th>y</th>\n",
       "      <th>t</th>\n",
       "      <th>y_scaled</th>\n",
       "    </tr>\n",
       "  </thead>\n",
       "  <tbody>\n",
       "    <tr>\n",
       "      <th>0</th>\n",
       "      <td>2021-06-24 19:30:00</td>\n",
       "      <td>None</td>\n",
       "      <td>1.047291</td>\n",
       "      <td>NaN</td>\n",
       "    </tr>\n",
       "    <tr>\n",
       "      <th>1</th>\n",
       "      <td>2021-06-25 19:30:00</td>\n",
       "      <td>None</td>\n",
       "      <td>1.094581</td>\n",
       "      <td>NaN</td>\n",
       "    </tr>\n",
       "    <tr>\n",
       "      <th>2</th>\n",
       "      <td>2021-06-26 19:30:00</td>\n",
       "      <td>None</td>\n",
       "      <td>1.141872</td>\n",
       "      <td>NaN</td>\n",
       "    </tr>\n",
       "    <tr>\n",
       "      <th>3</th>\n",
       "      <td>2021-06-27 19:30:00</td>\n",
       "      <td>None</td>\n",
       "      <td>1.189163</td>\n",
       "      <td>NaN</td>\n",
       "    </tr>\n",
       "    <tr>\n",
       "      <th>4</th>\n",
       "      <td>2021-06-28 19:30:00</td>\n",
       "      <td>None</td>\n",
       "      <td>1.236453</td>\n",
       "      <td>NaN</td>\n",
       "    </tr>\n",
       "  </tbody>\n",
       "</table>\n",
       "</div>"
      ],
      "text/plain": [
       "                   ds     y         t y_scaled\n",
       "0 2021-06-24 19:30:00  None  1.047291      NaN\n",
       "1 2021-06-25 19:30:00  None  1.094581      NaN\n",
       "2 2021-06-26 19:30:00  None  1.141872      NaN\n",
       "3 2021-06-27 19:30:00  None  1.189163      NaN\n",
       "4 2021-06-28 19:30:00  None  1.236453      NaN"
      ]
     },
     "execution_count": 9,
     "metadata": {},
     "output_type": "execute_result"
    }
   ],
   "source": [
    "#Neural Network \"Future-Date\" cell-- 08\n",
    "\n",
    "#Future Date\n",
    "\n",
    "future_dates = m.make_future_dataframe(train, periods=35)\n",
    "\n",
    "future_dates.head()"
   ]
  },
  {
   "cell_type": "code",
   "execution_count": 10,
   "metadata": {},
   "outputs": [
    {
     "data": {
      "text/html": [
       "<div>\n",
       "<style scoped>\n",
       "    .dataframe tbody tr th:only-of-type {\n",
       "        vertical-align: middle;\n",
       "    }\n",
       "\n",
       "    .dataframe tbody tr th {\n",
       "        vertical-align: top;\n",
       "    }\n",
       "\n",
       "    .dataframe thead th {\n",
       "        text-align: right;\n",
       "    }\n",
       "</style>\n",
       "<table border=\"1\" class=\"dataframe\">\n",
       "  <thead>\n",
       "    <tr style=\"text-align: right;\">\n",
       "      <th></th>\n",
       "      <th>ds</th>\n",
       "      <th>y</th>\n",
       "      <th>yhat1</th>\n",
       "      <th>residual1</th>\n",
       "      <th>trend</th>\n",
       "      <th>season_weekly</th>\n",
       "      <th>season_daily</th>\n",
       "    </tr>\n",
       "  </thead>\n",
       "  <tbody>\n",
       "    <tr>\n",
       "      <th>0</th>\n",
       "      <td>2021-06-24 19:30:00</td>\n",
       "      <td>None</td>\n",
       "      <td>33.230473</td>\n",
       "      <td>NaN</td>\n",
       "      <td>59.238213</td>\n",
       "      <td>-3.578509</td>\n",
       "      <td>-22.429234</td>\n",
       "    </tr>\n",
       "    <tr>\n",
       "      <th>1</th>\n",
       "      <td>2021-06-25 19:30:00</td>\n",
       "      <td>None</td>\n",
       "      <td>25.766308</td>\n",
       "      <td>NaN</td>\n",
       "      <td>55.030113</td>\n",
       "      <td>-6.834574</td>\n",
       "      <td>-22.429234</td>\n",
       "    </tr>\n",
       "    <tr>\n",
       "      <th>2</th>\n",
       "      <td>2021-06-26 19:30:00</td>\n",
       "      <td>None</td>\n",
       "      <td>28.153229</td>\n",
       "      <td>NaN</td>\n",
       "      <td>50.822006</td>\n",
       "      <td>-0.239544</td>\n",
       "      <td>-22.429234</td>\n",
       "    </tr>\n",
       "    <tr>\n",
       "      <th>3</th>\n",
       "      <td>2021-06-27 19:30:00</td>\n",
       "      <td>None</td>\n",
       "      <td>33.160526</td>\n",
       "      <td>NaN</td>\n",
       "      <td>46.613899</td>\n",
       "      <td>8.975862</td>\n",
       "      <td>-22.429234</td>\n",
       "    </tr>\n",
       "    <tr>\n",
       "      <th>4</th>\n",
       "      <td>2021-06-28 19:30:00</td>\n",
       "      <td>None</td>\n",
       "      <td>27.773117</td>\n",
       "      <td>NaN</td>\n",
       "      <td>42.405796</td>\n",
       "      <td>7.796553</td>\n",
       "      <td>-22.429234</td>\n",
       "    </tr>\n",
       "  </tbody>\n",
       "</table>\n",
       "</div>"
      ],
      "text/plain": [
       "                   ds     y      yhat1 residual1      trend  season_weekly  \\\n",
       "0 2021-06-24 19:30:00  None  33.230473       NaN  59.238213      -3.578509   \n",
       "1 2021-06-25 19:30:00  None  25.766308       NaN  55.030113      -6.834574   \n",
       "2 2021-06-26 19:30:00  None  28.153229       NaN  50.822006      -0.239544   \n",
       "3 2021-06-27 19:30:00  None  33.160526       NaN  46.613899       8.975862   \n",
       "4 2021-06-28 19:30:00  None  27.773117       NaN  42.405796       7.796553   \n",
       "\n",
       "   season_daily  \n",
       "0    -22.429234  \n",
       "1    -22.429234  \n",
       "2    -22.429234  \n",
       "3    -22.429234  \n",
       "4    -22.429234  "
      ]
     },
     "execution_count": 10,
     "metadata": {},
     "output_type": "execute_result"
    }
   ],
   "source": [
    "#Neural Network \"Prediction-future-values\" cell-- 10\n",
    "\n",
    "prediction = m.predict(future_dates)\n",
    "prediction.head()\n",
    "#print(prediction)"
   ]
  },
  {
   "cell_type": "code",
   "execution_count": 11,
   "metadata": {},
   "outputs": [
    {
     "name": "stdout",
     "output_type": "stream",
     "text": [
      "<class 'pandas.core.frame.DataFrame'>\n",
      "RangeIndex: 35 entries, 0 to 34\n",
      "Data columns (total 7 columns):\n",
      " #   Column         Non-Null Count  Dtype         \n",
      "---  ------         --------------  -----         \n",
      " 0   ds             35 non-null     datetime64[ns]\n",
      " 1   y              0 non-null      object        \n",
      " 2   yhat1          35 non-null     float64       \n",
      " 3   residual1      0 non-null      object        \n",
      " 4   trend          35 non-null     float64       \n",
      " 5   season_weekly  35 non-null     float64       \n",
      " 6   season_daily   35 non-null     float64       \n",
      "dtypes: datetime64[ns](1), float64(4), object(2)\n",
      "memory usage: 2.0+ KB\n"
     ]
    }
   ],
   "source": [
    "#Neural Network \"Table-info\" cell-- 09\n",
    "\n",
    "prediction.info()"
   ]
  },
  {
   "cell_type": "code",
   "execution_count": 12,
   "metadata": {},
   "outputs": [
    {
     "name": "stdout",
     "output_type": "stream",
     "text": [
      "                   ds      yhat1\n",
      "0 2021-06-24 19:30:00  33.230473\n",
      "1 2021-06-25 19:30:00  25.766308\n",
      "2 2021-06-26 19:30:00  28.153229\n",
      "3 2021-06-27 19:30:00  33.160526\n",
      "4 2021-06-28 19:30:00  27.773117\n"
     ]
    }
   ],
   "source": [
    "#Neural Network \"separate-Columns-from-Table\" cell-- 10\n",
    "\n",
    "df2 = pd.DataFrame(prediction, columns=['ds','yhat1'])\n",
    "\n",
    "print(df2.head())"
   ]
  },
  {
   "cell_type": "code",
   "execution_count": 13,
   "metadata": {},
   "outputs": [
    {
     "name": "stdout",
     "output_type": "stream",
     "text": [
      "                   ds      yhat1\n",
      "0 2021-06-24 19:30:00  33.230473\n"
     ]
    }
   ],
   "source": [
    "#Neural Network \"slice-row-with-Timestamp\" cell-- 11\n",
    "\n",
    "df3 = df2.loc[(df2.ds == '2021-06-24 19:30:00')].copy()\n",
    "print(df3)"
   ]
  },
  {
   "cell_type": "code",
   "execution_count": 14,
   "metadata": {},
   "outputs": [
    {
     "name": "stdout",
     "output_type": "stream",
     "text": [
      "            humidity_mean\n",
      "Timestamp                \n",
      "2021-06-24      33.230473\n"
     ]
    }
   ],
   "source": [
    "#Neural Network \"rename-columns-and-set_index\" cell-- 14\n",
    "\n",
    "df3.rename(columns={'ds':'Timestamp','yhat1':'humidity_mean'}, inplace=True)\n",
    "df3['Timestamp'] = pd.to_datetime(df3['Timestamp']).dt.date\n",
    "df3.set_index('Timestamp', inplace=True)\n",
    "\n",
    "print(df3)"
   ]
  },
  {
   "cell_type": "code",
   "execution_count": 15,
   "metadata": {},
   "outputs": [],
   "source": [
    "# Room3 Humidity csv file -- cell -1\n",
    "\n",
    "df_2 = pd.read_csv('humidity_room3_datetime.csv', parse_dates=[\"Timestamp\"], index_col=\"Timestamp\", encoding='utf-8')"
   ]
  },
  {
   "cell_type": "code",
   "execution_count": 16,
   "metadata": {},
   "outputs": [],
   "source": [
    "# Room2 Temp Mean value -- cell -2\n",
    "\n",
    "df_mean_room3 = df_2.groupby(pd.Grouper(freq='d')).mean().dropna().rename(columns={\"humidity\":\"humidity_mean\"}).copy()"
   ]
  },
  {
   "cell_type": "code",
   "execution_count": 17,
   "metadata": {},
   "outputs": [
    {
     "name": "stdout",
     "output_type": "stream",
     "text": [
      "            humidity_mean\n",
      "2021-06-02      71.750000\n",
      "2021-06-03      68.902098\n",
      "2021-06-04      60.160839\n",
      "2021-06-05      47.116788\n",
      "2021-06-06      49.230769\n",
      "2021-06-07      51.790210\n",
      "2021-06-08      49.692308\n",
      "2021-06-09      42.125874\n",
      "2021-06-10      47.398601\n",
      "2021-06-11      52.475524\n",
      "2021-06-12      61.496503\n",
      "2021-06-13      65.225352\n",
      "2021-06-14      57.167832\n",
      "2021-06-15      56.419580\n",
      "2021-06-16      71.685315\n",
      "2021-06-17      85.461538\n",
      "2021-06-18      84.083916\n",
      "2021-06-19      77.776224\n",
      "2021-06-20      91.979167\n",
      "2021-06-21      66.265060\n",
      "2021-06-22      93.492063\n",
      "2021-06-23      33.192308\n",
      "2021-06-24            NaN\n"
     ]
    }
   ],
   "source": [
    "# Room2 Temp Mean value -- cell -3\n",
    "\n",
    "idx = pd.date_range('2021-06-02','2021-06-24')\n",
    "df_mean_room3.index = pd.DatetimeIndex(df_mean_room3.index)\n",
    "df_mean_room3 = df_mean_room3.reindex(idx,fill_value=np.nan).copy()\n",
    "\n",
    "print(df_mean_room3)"
   ]
  },
  {
   "cell_type": "code",
   "execution_count": 18,
   "metadata": {},
   "outputs": [
    {
     "data": {
      "image/png": "[encoded data removed]",
      "text/plain": [
       "<Figure size 864x360 with 1 Axes>"
      ]
     },
     "metadata": {
      "needs_background": "light"
     },
     "output_type": "display_data"
    }
   ],
   "source": [
    "# Room3 Humidity Mean value -- cell -4\n",
    "\n",
    "fig, ax = plt.subplots(figsize=(12,5))\n",
    "ax.set_ylim(0,26)\n",
    "\n",
    "ax.plot(df_mean_room3.loc['2021-06-02':'2021-06-24', 'humidity_mean'], marker='o', linestyle='-')\n",
    "ax = plt.gca()\n",
    "plt.autoscale(True, axis='both')\n",
    "#plt.grid(True)\n",
    "ax.set_ylabel('Daily humidity in %', fontsize=14)\n",
    "ax.set_xlabel('June 2021', fontsize=14)\n",
    "ax.set_title('June 2021 Outside Humidity in %', fontsize=16)\n",
    "ax.xaxis.set_major_locator(mdates.DayLocator())\n",
    "ax.xaxis.set_major_formatter(mdates.DateFormatter('%d'))\n",
    "plt.grid(True)"
   ]
  },
  {
   "cell_type": "code",
   "execution_count": 19,
   "metadata": {},
   "outputs": [
    {
     "name": "stdout",
     "output_type": "stream",
     "text": [
      "            humidity_mean\n",
      "2021-06-02      71.750000\n",
      "2021-06-03      68.902098\n",
      "2021-06-04      60.160839\n",
      "2021-06-05      47.116788\n",
      "2021-06-06      49.230769\n",
      "2021-06-07      51.790210\n",
      "2021-06-08      49.692308\n",
      "2021-06-09      42.125874\n",
      "2021-06-10      47.398601\n",
      "2021-06-11      52.475524\n",
      "2021-06-12      61.496503\n",
      "2021-06-13      65.225352\n",
      "2021-06-14      57.167832\n",
      "2021-06-15      56.419580\n",
      "2021-06-16      71.685315\n",
      "2021-06-17      85.461538\n",
      "2021-06-18      84.083916\n",
      "2021-06-19      77.776224\n",
      "2021-06-20      91.979167\n",
      "2021-06-21      66.265060\n",
      "2021-06-22      93.492063\n",
      "2021-06-23      33.192308\n",
      "2021-06-24      33.230473\n"
     ]
    }
   ],
   "source": [
    "# Room3 Humidity Mean value -- cell -5\n",
    "\n",
    "df_mean_room3 = df_mean_room3.combine_first(df3).copy()\n",
    "\n",
    "print(df_mean_room3)\n",
    "\n",
    "#SAVE File in .csv\n",
    "\n",
    "#df_mean_room3.to_csv('missing_value_humidity_outside_june_21.csv')"
   ]
  },
  {
   "cell_type": "code",
   "execution_count": 22,
   "metadata": {},
   "outputs": [
    {
     "data": {
      "image/png": "[encoded data removed]",
      "text/plain": [
       "<Figure size 864x360 with 1 Axes>"
      ]
     },
     "metadata": {
      "needs_background": "light"
     },
     "output_type": "display_data"
    }
   ],
   "source": [
    "# Room3 Humidity Mean value after filling missing value-- cell -6\n",
    "\n",
    "fig, ax = plt.subplots(figsize=(12,5))\n",
    "ax.set_ylim(0,26)\n",
    "\n",
    "ax.plot(df_mean_room3.loc['2021-06-02':'2021-06-23', 'humidity_mean'], marker='o', linestyle='-',color='blue')\n",
    "ax.plot(df_mean_room3.loc['2021-06-23':'2021-06-24', 'humidity_mean'], marker='o', linestyle='--',color='green')\n",
    "\n",
    "\n",
    "ax = plt.gca()\n",
    "plt.autoscale(True, axis='both')\n",
    "#plt.grid(True)\n",
    "ax.set_ylabel('Daily humidity in %', fontsize=14)\n",
    "ax.set_xlabel('June 2021', fontsize=14)\n",
    "ax.set_title('June 2021 Outside Humidity in %', fontsize=16)\n",
    "ax.xaxis.set_major_locator(mdates.DayLocator())\n",
    "ax.xaxis.set_major_formatter(mdates.DateFormatter('%d'))\n",
    "plt.grid(True)"
   ]
  },
  {
   "cell_type": "code",
   "execution_count": null,
   "metadata": {},
   "outputs": [],
   "source": []
  },
  {
   "cell_type": "code",
   "execution_count": null,
   "metadata": {},
   "outputs": [],
   "source": []
  }
 ],
 "metadata": {
  "kernelspec": {
   "display_name": "Python 3",
   "language": "python",
   "name": "python3"
  },
  "language_info": {
   "codemirror_mode": {
    "name": "ipython",
    "version": 3
   },
   "file_extension": ".py",
   "mimetype": "text/x-python",
   "name": "python",
   "nbconvert_exporter": "python",
   "pygments_lexer": "ipython3",
   "version": "3.6.12"
  }
 },
 "nbformat": 4,
 "nbformat_minor": 4
}
