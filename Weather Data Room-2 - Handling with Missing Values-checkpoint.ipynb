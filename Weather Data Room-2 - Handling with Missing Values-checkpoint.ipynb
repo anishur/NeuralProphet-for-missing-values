{
 "cells": [
  {
   "cell_type": "code",
   "execution_count": 246,
   "metadata": {},
   "outputs": [],
   "source": [
    "import pandas as pd\n",
    "import numpy as np\n",
    "from neuralprophet import NeuralProphet\n",
    "import pickle\n",
    "from datetime import datetime\n",
    "from matplotlib.pyplot import *\n",
    "import matplotlib.pylab as plt\n",
    "import seaborn as sns\n",
    "plt.close(\"all\")\n",
    "import matplotlib.ticker as mticker\n",
    "import matplotlib.dates as mdates\n",
    "%matplotlib inline"
   ]
  },
  {
   "cell_type": "code",
   "execution_count": 247,
   "metadata": {},
   "outputs": [
    {
     "data": {
      "text/html": [
       "<div>\n",
       "<style scoped>\n",
       "    .dataframe tbody tr th:only-of-type {\n",
       "        vertical-align: middle;\n",
       "    }\n",
       "\n",
       "    .dataframe tbody tr th {\n",
       "        vertical-align: top;\n",
       "    }\n",
       "\n",
       "    .dataframe thead th {\n",
       "        text-align: right;\n",
       "    }\n",
       "</style>\n",
       "<table border=\"1\" class=\"dataframe\">\n",
       "  <thead>\n",
       "    <tr style=\"text-align: right;\">\n",
       "      <th></th>\n",
       "      <th>Timestamp</th>\n",
       "      <th>temp</th>\n",
       "    </tr>\n",
       "  </thead>\n",
       "  <tbody>\n",
       "    <tr>\n",
       "      <th>0</th>\n",
       "      <td>6/2/21 16:00</td>\n",
       "      <td>23</td>\n",
       "    </tr>\n",
       "    <tr>\n",
       "      <th>1</th>\n",
       "      <td>6/2/21 16:10</td>\n",
       "      <td>23</td>\n",
       "    </tr>\n",
       "    <tr>\n",
       "      <th>2</th>\n",
       "      <td>6/2/21 16:20</td>\n",
       "      <td>24</td>\n",
       "    </tr>\n",
       "    <tr>\n",
       "      <th>3</th>\n",
       "      <td>6/2/21 16:30</td>\n",
       "      <td>24</td>\n",
       "    </tr>\n",
       "    <tr>\n",
       "      <th>4</th>\n",
       "      <td>6/2/21 16:40</td>\n",
       "      <td>24</td>\n",
       "    </tr>\n",
       "    <tr>\n",
       "      <th>5</th>\n",
       "      <td>6/2/21 16:50</td>\n",
       "      <td>24</td>\n",
       "    </tr>\n",
       "    <tr>\n",
       "      <th>6</th>\n",
       "      <td>6/2/21 17:00</td>\n",
       "      <td>24</td>\n",
       "    </tr>\n",
       "    <tr>\n",
       "      <th>7</th>\n",
       "      <td>6/2/21 17:10</td>\n",
       "      <td>24</td>\n",
       "    </tr>\n",
       "    <tr>\n",
       "      <th>8</th>\n",
       "      <td>6/2/21 17:20</td>\n",
       "      <td>24</td>\n",
       "    </tr>\n",
       "    <tr>\n",
       "      <th>9</th>\n",
       "      <td>6/2/21 17:30</td>\n",
       "      <td>24</td>\n",
       "    </tr>\n",
       "  </tbody>\n",
       "</table>\n",
       "</div>"
      ],
      "text/plain": [
       "      Timestamp  temp\n",
       "0  6/2/21 16:00    23\n",
       "1  6/2/21 16:10    23\n",
       "2  6/2/21 16:20    24\n",
       "3  6/2/21 16:30    24\n",
       "4  6/2/21 16:40    24\n",
       "5  6/2/21 16:50    24\n",
       "6  6/2/21 17:00    24\n",
       "7  6/2/21 17:10    24\n",
       "8  6/2/21 17:20    24\n",
       "9  6/2/21 17:30    24"
      ]
     },
     "execution_count": 247,
     "metadata": {},
     "output_type": "execute_result"
    }
   ],
   "source": [
    "#Neural Network \"read-csv-file-to-fill-up-missing-value\" cell-- 01\n",
    "\n",
    "df = pd.read_csv('temp_room2_datetime.csv')\n",
    "\n",
    "df.head(10)"
   ]
  },
  {
   "cell_type": "code",
   "execution_count": 248,
   "metadata": {},
   "outputs": [],
   "source": [
    "#Neural Network \"Slice-rows-with-Timestamp\" cell-- 02\n",
    "\n",
    "df1 = df.loc[(df.Timestamp >= '6/2/21 16:00') & (df.Timestamp <= '6/8/21 23:50') ].copy()"
   ]
  },
  {
   "cell_type": "code",
   "execution_count": 250,
   "metadata": {},
   "outputs": [
    {
     "name": "stdout",
     "output_type": "stream",
     "text": [
      "        Timestamp  temp\n",
      "0    6/2/21 16:00    23\n",
      "1    6/2/21 16:10    23\n",
      "2    6/2/21 16:20    24\n",
      "3    6/2/21 16:30    24\n",
      "4    6/2/21 16:40    24\n",
      "..            ...   ...\n",
      "907  6/8/21 23:10    23\n",
      "908  6/8/21 23:20    23\n",
      "909  6/8/21 23:30    22\n",
      "910  6/8/21 23:40    22\n",
      "911  6/8/21 23:50    22\n",
      "\n",
      "[864 rows x 2 columns]\n",
      "<class 'pandas.core.frame.DataFrame'>\n",
      "Int64Index: 864 entries, 0 to 911\n",
      "Data columns (total 2 columns):\n",
      " #   Column     Non-Null Count  Dtype \n",
      "---  ------     --------------  ----- \n",
      " 0   Timestamp  864 non-null    object\n",
      " 1   temp       864 non-null    int64 \n",
      "dtypes: int64(1), object(1)\n",
      "memory usage: 20.2+ KB\n"
     ]
    }
   ],
   "source": [
    "#Neural Network \"print-dataframe\" cell-- 03\n",
    "\n",
    "print(df1)\n",
    "df1.info()"
   ]
  },
  {
   "cell_type": "code",
   "execution_count": 251,
   "metadata": {},
   "outputs": [
    {
     "data": {
      "text/plain": [
       "(864, 2)"
      ]
     },
     "execution_count": 251,
     "metadata": {},
     "output_type": "execute_result"
    }
   ],
   "source": [
    "#Neural Network cell-- 04\n",
    "\n",
    "df_per_day = df1[['Timestamp','temp']] \n",
    "df_per_day.shape"
   ]
  },
  {
   "cell_type": "code",
   "execution_count": 252,
   "metadata": {},
   "outputs": [],
   "source": [
    "#Neural Network \"Rename-columns\" cell-- 05\n",
    "\n",
    "df_per_day.rename(columns={\"Timestamp\":\"ds\",\"temp\":\"y\"}, inplace=True)"
   ]
  },
  {
   "cell_type": "code",
   "execution_count": 253,
   "metadata": {},
   "outputs": [],
   "source": [
    "#Neural Network \"train-test\" cell-- 06\n",
    "\n",
    "#train = df_per_day[:219]\n",
    "train = df_per_day[:]\n",
    "test = df_per_day[219:]\n",
    "#train.tail()"
   ]
  },
  {
   "cell_type": "code",
   "execution_count": 255,
   "metadata": {},
   "outputs": [],
   "source": [
    "#Neural Network \"NeuralProphet-algorithm\" cell-- 07\n",
    "\n",
    "#Model \n",
    "\n",
    "m = NeuralProphet()"
   ]
  },
  {
   "cell_type": "code",
   "execution_count": 256,
   "metadata": {},
   "outputs": [
    {
     "name": "stderr",
     "output_type": "stream",
     "text": [
      "INFO - (NP.utils.set_auto_seasonalities) - Disabling yearly seasonality. Run NeuralProphet with yearly_seasonality=True to override this.\n",
      "INFO - (NP.utils.set_auto_seasonalities) - Disabling weekly seasonality. Run NeuralProphet with weekly_seasonality=True to override this.\n",
      "INFO - (NP.config.set_auto_batch_epoch) - Auto-set batch_size to 16\n"
     ]
    },
    {
     "data": {
      "application/vnd.jupyter.widget-view+json": {
       "model_id": "3c47c4d80a4b493faf167f2647947399",
       "version_major": 2,
       "version_minor": 0
      },
      "text/plain": [
       "HBox(children=(HTML(value=''), FloatProgress(value=0.0, max=247.0), HTML(value='')))"
      ]
     },
     "metadata": {},
     "output_type": "display_data"
    },
    {
     "name": "stderr",
     "output_type": "stream",
     "text": [
      "INFO - (NP.utils_torch.lr_range_test) - lr-range-test results: steep: 7.69E-02, min: 1.23E+00\n",
      "INFO - (NP.utils_torch.lr_range_test) - learning rate range test selected lr: 4.88E-01\n",
      "Epoch[1000/1000]: 100%|█████| 1000/1000 [01:14<00:00, 13.43it/s, SmoothL1Loss=0.00182, MAE=0.302, MSE=0.131, RegLoss=0]\n"
     ]
    }
   ],
   "source": [
    "#Neural Network \"Run-Model\" cell-- 08\n",
    "\n",
    "#Fit Model\n",
    "\n",
    "model = m.fit(train, freq='D', epochs=1000)"
   ]
  },
  {
   "cell_type": "code",
   "execution_count": 269,
   "metadata": {},
   "outputs": [
    {
     "data": {
      "text/html": [
       "<div>\n",
       "<style scoped>\n",
       "    .dataframe tbody tr th:only-of-type {\n",
       "        vertical-align: middle;\n",
       "    }\n",
       "\n",
       "    .dataframe tbody tr th {\n",
       "        vertical-align: top;\n",
       "    }\n",
       "\n",
       "    .dataframe thead th {\n",
       "        text-align: right;\n",
       "    }\n",
       "</style>\n",
       "<table border=\"1\" class=\"dataframe\">\n",
       "  <thead>\n",
       "    <tr style=\"text-align: right;\">\n",
       "      <th></th>\n",
       "      <th>ds</th>\n",
       "      <th>y</th>\n",
       "      <th>t</th>\n",
       "      <th>y_scaled</th>\n",
       "    </tr>\n",
       "  </thead>\n",
       "  <tbody>\n",
       "    <tr>\n",
       "      <th>0</th>\n",
       "      <td>2021-06-09 23:50:00</td>\n",
       "      <td>None</td>\n",
       "      <td>1.158068</td>\n",
       "      <td>NaN</td>\n",
       "    </tr>\n",
       "    <tr>\n",
       "      <th>1</th>\n",
       "      <td>2021-06-10 23:50:00</td>\n",
       "      <td>None</td>\n",
       "      <td>1.316136</td>\n",
       "      <td>NaN</td>\n",
       "    </tr>\n",
       "    <tr>\n",
       "      <th>2</th>\n",
       "      <td>2021-06-11 23:50:00</td>\n",
       "      <td>None</td>\n",
       "      <td>1.474204</td>\n",
       "      <td>NaN</td>\n",
       "    </tr>\n",
       "    <tr>\n",
       "      <th>3</th>\n",
       "      <td>2021-06-12 23:50:00</td>\n",
       "      <td>None</td>\n",
       "      <td>1.632272</td>\n",
       "      <td>NaN</td>\n",
       "    </tr>\n",
       "    <tr>\n",
       "      <th>4</th>\n",
       "      <td>2021-06-13 23:50:00</td>\n",
       "      <td>None</td>\n",
       "      <td>1.790340</td>\n",
       "      <td>NaN</td>\n",
       "    </tr>\n",
       "  </tbody>\n",
       "</table>\n",
       "</div>"
      ],
      "text/plain": [
       "                   ds     y         t y_scaled\n",
       "0 2021-06-09 23:50:00  None  1.158068      NaN\n",
       "1 2021-06-10 23:50:00  None  1.316136      NaN\n",
       "2 2021-06-11 23:50:00  None  1.474204      NaN\n",
       "3 2021-06-12 23:50:00  None  1.632272      NaN\n",
       "4 2021-06-13 23:50:00  None  1.790340      NaN"
      ]
     },
     "execution_count": 269,
     "metadata": {},
     "output_type": "execute_result"
    }
   ],
   "source": [
    "#Neural Network \"Future-Date\" cell-- 09\n",
    "\n",
    "#Future Date\n",
    "\n",
    "future_dates = m.make_future_dataframe(train, periods=35)\n",
    "\n",
    "future_dates.head()"
   ]
  },
  {
   "cell_type": "code",
   "execution_count": 270,
   "metadata": {},
   "outputs": [
    {
     "data": {
      "text/html": [
       "<div>\n",
       "<style scoped>\n",
       "    .dataframe tbody tr th:only-of-type {\n",
       "        vertical-align: middle;\n",
       "    }\n",
       "\n",
       "    .dataframe tbody tr th {\n",
       "        vertical-align: top;\n",
       "    }\n",
       "\n",
       "    .dataframe thead th {\n",
       "        text-align: right;\n",
       "    }\n",
       "</style>\n",
       "<table border=\"1\" class=\"dataframe\">\n",
       "  <thead>\n",
       "    <tr style=\"text-align: right;\">\n",
       "      <th></th>\n",
       "      <th>ds</th>\n",
       "      <th>y</th>\n",
       "      <th>yhat1</th>\n",
       "      <th>residual1</th>\n",
       "      <th>trend</th>\n",
       "      <th>season_daily</th>\n",
       "    </tr>\n",
       "  </thead>\n",
       "  <tbody>\n",
       "    <tr>\n",
       "      <th>0</th>\n",
       "      <td>2021-06-09 23:50:00</td>\n",
       "      <td>None</td>\n",
       "      <td>22.512953</td>\n",
       "      <td>NaN</td>\n",
       "      <td>22.781178</td>\n",
       "      <td>-0.268223</td>\n",
       "    </tr>\n",
       "    <tr>\n",
       "      <th>1</th>\n",
       "      <td>2021-06-10 23:50:00</td>\n",
       "      <td>None</td>\n",
       "      <td>22.751953</td>\n",
       "      <td>NaN</td>\n",
       "      <td>23.020178</td>\n",
       "      <td>-0.268223</td>\n",
       "    </tr>\n",
       "    <tr>\n",
       "      <th>2</th>\n",
       "      <td>2021-06-11 23:50:00</td>\n",
       "      <td>None</td>\n",
       "      <td>22.990955</td>\n",
       "      <td>NaN</td>\n",
       "      <td>23.259178</td>\n",
       "      <td>-0.268223</td>\n",
       "    </tr>\n",
       "    <tr>\n",
       "      <th>3</th>\n",
       "      <td>2021-06-12 23:50:00</td>\n",
       "      <td>None</td>\n",
       "      <td>23.229958</td>\n",
       "      <td>NaN</td>\n",
       "      <td>23.498180</td>\n",
       "      <td>-0.268223</td>\n",
       "    </tr>\n",
       "    <tr>\n",
       "      <th>4</th>\n",
       "      <td>2021-06-13 23:50:00</td>\n",
       "      <td>None</td>\n",
       "      <td>23.468958</td>\n",
       "      <td>NaN</td>\n",
       "      <td>23.737181</td>\n",
       "      <td>-0.268223</td>\n",
       "    </tr>\n",
       "  </tbody>\n",
       "</table>\n",
       "</div>"
      ],
      "text/plain": [
       "                   ds     y      yhat1 residual1      trend  season_daily\n",
       "0 2021-06-09 23:50:00  None  22.512953       NaN  22.781178     -0.268223\n",
       "1 2021-06-10 23:50:00  None  22.751953       NaN  23.020178     -0.268223\n",
       "2 2021-06-11 23:50:00  None  22.990955       NaN  23.259178     -0.268223\n",
       "3 2021-06-12 23:50:00  None  23.229958       NaN  23.498180     -0.268223\n",
       "4 2021-06-13 23:50:00  None  23.468958       NaN  23.737181     -0.268223"
      ]
     },
     "execution_count": 270,
     "metadata": {},
     "output_type": "execute_result"
    }
   ],
   "source": [
    "#Neural Network \"Prediction-future-values\" cell-- 10\n",
    "\n",
    "\n",
    "prediction = m.predict(future_dates)\n",
    "prediction.head()\n",
    "#print(prediction)"
   ]
  },
  {
   "cell_type": "code",
   "execution_count": 271,
   "metadata": {},
   "outputs": [
    {
     "name": "stdout",
     "output_type": "stream",
     "text": [
      "<class 'pandas.core.frame.DataFrame'>\n",
      "RangeIndex: 35 entries, 0 to 34\n",
      "Data columns (total 6 columns):\n",
      " #   Column        Non-Null Count  Dtype         \n",
      "---  ------        --------------  -----         \n",
      " 0   ds            35 non-null     datetime64[ns]\n",
      " 1   y             0 non-null      object        \n",
      " 2   yhat1         35 non-null     float64       \n",
      " 3   residual1     0 non-null      object        \n",
      " 4   trend         35 non-null     float64       \n",
      " 5   season_daily  35 non-null     float64       \n",
      "dtypes: datetime64[ns](1), float64(3), object(2)\n",
      "memory usage: 1.8+ KB\n"
     ]
    }
   ],
   "source": [
    "#Neural Network \"Table-info\" cell-- 11\n",
    "\n",
    "prediction.info()"
   ]
  },
  {
   "cell_type": "code",
   "execution_count": 272,
   "metadata": {},
   "outputs": [
    {
     "name": "stdout",
     "output_type": "stream",
     "text": [
      "                    ds      yhat1\n",
      "0  2021-06-09 23:50:00  22.512953\n",
      "1  2021-06-10 23:50:00  22.751953\n",
      "2  2021-06-11 23:50:00  22.990955\n",
      "3  2021-06-12 23:50:00  23.229958\n",
      "4  2021-06-13 23:50:00  23.468958\n",
      "5  2021-06-14 23:50:00  23.707958\n",
      "6  2021-06-15 23:50:00  23.946960\n",
      "7  2021-06-16 23:50:00  24.185961\n",
      "8  2021-06-17 23:50:00  24.424961\n",
      "9  2021-06-18 23:50:00  24.663963\n",
      "10 2021-06-19 23:50:00  24.902964\n",
      "11 2021-06-20 23:50:00  25.141964\n",
      "12 2021-06-21 23:50:00  25.380966\n",
      "13 2021-06-22 23:50:00  25.619968\n",
      "14 2021-06-23 23:50:00  25.858969\n",
      "15 2021-06-24 23:50:00  26.097969\n",
      "16 2021-06-25 23:50:00  26.336971\n",
      "17 2021-06-26 23:50:00  26.575972\n",
      "18 2021-06-27 23:50:00  26.814974\n",
      "19 2021-06-28 23:50:00  27.053974\n",
      "20 2021-06-29 23:50:00  27.292976\n",
      "21 2021-06-30 23:50:00  27.531975\n",
      "22 2021-07-01 23:50:00  27.770977\n",
      "23 2021-07-02 23:50:00  28.009979\n",
      "24 2021-07-03 23:50:00  28.248980\n",
      "25 2021-07-04 23:50:00  28.487980\n",
      "26 2021-07-05 23:50:00  28.726982\n",
      "27 2021-07-06 23:50:00  28.965984\n",
      "28 2021-07-07 23:50:00  29.204985\n",
      "29 2021-07-08 23:50:00  29.443985\n",
      "30 2021-07-09 23:50:00  29.682987\n",
      "31 2021-07-10 23:50:00  29.921988\n",
      "32 2021-07-11 23:50:00  30.160988\n",
      "33 2021-07-12 23:50:00  30.399990\n",
      "34 2021-07-13 23:50:00  30.638990\n"
     ]
    }
   ],
   "source": [
    "#Neural Network \"separate-Columns-from-Table\" cell-- 12\n",
    "\n",
    "\n",
    "\n",
    "df2 = pd.DataFrame(prediction, columns=['ds','yhat1'])\n",
    "\n",
    "\n",
    "print(df2)"
   ]
  },
  {
   "cell_type": "code",
   "execution_count": 273,
   "metadata": {},
   "outputs": [
    {
     "name": "stdout",
     "output_type": "stream",
     "text": [
      "                   ds      yhat1\n",
      "1 2021-06-10 23:50:00  22.751953\n",
      "2 2021-06-11 23:50:00  22.990955\n",
      "3 2021-06-12 23:50:00  23.229958\n",
      "4 2021-06-13 23:50:00  23.468958\n"
     ]
    }
   ],
   "source": [
    "#Neural Network \"slice-row-with-Timestamp\" cell-- 13\n",
    "\n",
    "df3 = df2.loc[(df2.ds >= '2021-06-10 23:50:00') & (df2.ds <= '2021-06-13 23:50:00') ].copy()\n",
    "print(df3)"
   ]
  },
  {
   "cell_type": "code",
   "execution_count": 274,
   "metadata": {},
   "outputs": [
    {
     "name": "stdout",
     "output_type": "stream",
     "text": [
      "            temp_mean\n",
      "Timestamp            \n",
      "2021-06-10  22.751953\n",
      "2021-06-11  22.990955\n",
      "2021-06-12  23.229958\n",
      "2021-06-13  23.468958\n"
     ]
    }
   ],
   "source": [
    "#Neural Network \"rename-columns-and-set_index\" cell-- 14\n",
    "\n",
    "df3.rename(columns={'ds':'Timestamp','yhat1':'temp_mean'}, inplace=True)\n",
    "df3['Timestamp'] = pd.to_datetime(df3['Timestamp']).dt.date\n",
    "df3.set_index('Timestamp', inplace=True)\n",
    "\n",
    "print(df3)"
   ]
  },
  {
   "cell_type": "code",
   "execution_count": 317,
   "metadata": {},
   "outputs": [],
   "source": [
    "# Room2 Temp csv file -- cell -1\n",
    "\n",
    "df_2 = pd.read_csv('temp_room2_datetime.csv', parse_dates=[\"Timestamp\"], index_col=\"Timestamp\", encoding='utf-8')"
   ]
  },
  {
   "cell_type": "code",
   "execution_count": 318,
   "metadata": {},
   "outputs": [],
   "source": [
    "# Room2 Temp Mean value -- cell -2\n",
    "\n",
    "df_mean_room2 = df_2.groupby(pd.Grouper(freq='d')).mean().dropna().rename(columns={\"temp\":\"temp_mean\"}).copy()"
   ]
  },
  {
   "cell_type": "code",
   "execution_count": 319,
   "metadata": {},
   "outputs": [
    {
     "name": "stdout",
     "output_type": "stream",
     "text": [
      "            temp_mean\n",
      "2021-06-02  22.687500\n",
      "2021-06-03  21.041667\n",
      "2021-06-04  20.368056\n",
      "2021-06-05  20.868056\n",
      "2021-06-06  21.465278\n",
      "2021-06-07  21.944444\n",
      "2021-06-08  22.388889\n",
      "2021-06-09  22.172727\n",
      "2021-06-10        NaN\n",
      "2021-06-11        NaN\n",
      "2021-06-12        NaN\n",
      "2021-06-13        NaN\n",
      "2021-06-14  22.979167\n",
      "2021-06-15  24.138889\n",
      "2021-06-16  23.701389\n",
      "2021-06-17  23.395833\n",
      "2021-06-18  22.576389\n",
      "2021-06-19  21.812500\n",
      "2021-06-20  20.742268\n",
      "2021-06-21  21.142857\n",
      "2021-06-22  20.215278\n",
      "2021-06-23  20.562500\n",
      "2021-06-24  19.771930\n"
     ]
    }
   ],
   "source": [
    "# Room2 Temp Mean value -- cell -3\n",
    "\n",
    "idx = pd.date_range('2021-06-02','2021-06-24')\n",
    "df_mean_room2.index = pd.DatetimeIndex(df_mean_room2.index)\n",
    "df_mean_room2 = df_mean_room2.reindex(idx,fill_value=np.nan).copy()\n",
    "\n",
    "print(df_mean_room2)"
   ]
  },
  {
   "cell_type": "code",
   "execution_count": 320,
   "metadata": {},
   "outputs": [
    {
     "data": {
      "image/png": "[encoded data removed]",
      "text/plain": [
       "<Figure size 864x360 with 1 Axes>"
      ]
     },
     "metadata": {
      "needs_background": "light"
     },
     "output_type": "display_data"
    }
   ],
   "source": [
    "# Room2 Temp Mean value -- cell -4\n",
    "\n",
    "fig, ax = plt.subplots(figsize=(12,5))\n",
    "ax.set_ylim(0,26)\n",
    "\n",
    "ax.plot(df_mean_room2.loc['2021-06-02':'2021-06-24', 'temp_mean'], marker='o', linestyle='-')\n",
    "ax = plt.gca()\n",
    "plt.autoscale(True, axis='both')\n",
    "#plt.grid(True)\n",
    "ax.set_ylabel('Daily Temp ºC', fontsize=14)\n",
    "ax.set_xlabel('June 2021', fontsize=14)\n",
    "ax.set_title('June 2021 Room2 Temp in ºC', fontsize=16)\n",
    "ax.xaxis.set_major_locator(mdates.DayLocator())\n",
    "ax.xaxis.set_major_formatter(mdates.DateFormatter('%d'))\n",
    "plt.grid(True)"
   ]
  },
  {
   "cell_type": "code",
   "execution_count": 322,
   "metadata": {},
   "outputs": [
    {
     "name": "stdout",
     "output_type": "stream",
     "text": [
      "            temp_mean\n",
      "2021-06-02  22.687500\n",
      "2021-06-03  21.041667\n",
      "2021-06-04  20.368056\n",
      "2021-06-05  20.868056\n",
      "2021-06-06  21.465278\n",
      "2021-06-07  21.944444\n",
      "2021-06-08  22.388889\n",
      "2021-06-09  22.172727\n",
      "2021-06-10  22.751953\n",
      "2021-06-11  22.990955\n",
      "2021-06-12  23.229958\n",
      "2021-06-13  23.468958\n",
      "2021-06-14  22.979167\n",
      "2021-06-15  24.138889\n",
      "2021-06-16  23.701389\n",
      "2021-06-17  23.395833\n",
      "2021-06-18  22.576389\n",
      "2021-06-19  21.812500\n",
      "2021-06-20  20.742268\n",
      "2021-06-21  21.142857\n",
      "2021-06-22  20.215278\n",
      "2021-06-23  20.562500\n",
      "2021-06-24  19.771930\n"
     ]
    }
   ],
   "source": [
    "# Room2 Temp Mean value -- cell -5\n",
    "\n",
    "df_mean_room2 = df_mean_room2.combine_first(df3).copy()\n",
    "\n",
    "print(df_mean_room2)"
   ]
  },
  {
   "cell_type": "code",
   "execution_count": 324,
   "metadata": {
    "scrolled": true
   },
   "outputs": [
    {
     "data": {
      "image/png": "[encoded data removed]",
      "text/plain": [
       "<Figure size 864x360 with 1 Axes>"
      ]
     },
     "metadata": {
      "needs_background": "light"
     },
     "output_type": "display_data"
    }
   ],
   "source": [
    "# Room2 Temp Mean value -- cell -7\n",
    "\n",
    "fig, ax = plt.subplots(figsize=(12,5))\n",
    "ax.set_ylim(0,26)\n",
    "\n",
    "ax.plot(df_mean_room2.loc['2021-06-02':'2021-06-24', 'temp_mean'], marker='o', linestyle='-')\n",
    "ax = plt.gca()\n",
    "plt.autoscale(True, axis='both')\n",
    "#plt.grid(True)\n",
    "ax.set_ylabel('Daily Temp ºC', fontsize=14)\n",
    "ax.set_xlabel('June 2021', fontsize=14)\n",
    "ax.set_title('June 2021 Room2 Temp in ºC', fontsize=16)\n",
    "ax.xaxis.set_major_locator(mdates.DayLocator())\n",
    "ax.xaxis.set_major_formatter(mdates.DateFormatter('%d'))\n",
    "plt.grid(True)"
   ]
  },
  {
   "cell_type": "code",
   "execution_count": null,
   "metadata": {},
   "outputs": [],
   "source": [
    "# Room2 Temp value \"to SAVE in .csv\" -- cell -7\n",
    "\n",
    "#df_mean_room2.to_csv('file_name.csv')\n"
   ]
  },
  {
   "cell_type": "code",
   "execution_count": 339,
   "metadata": {},
   "outputs": [
    {
     "name": "stdout",
     "output_type": "stream",
     "text": [
      "    Unnamed: 0  temp_mean\n",
      "0   2021-06-02  22.687500\n",
      "1   2021-06-03  21.041667\n",
      "2   2021-06-04  20.368056\n",
      "3   2021-06-05  20.868056\n",
      "4   2021-06-06  21.465278\n",
      "5   2021-06-07  21.944444\n",
      "6   2021-06-08  22.388889\n",
      "7   2021-06-09  22.172727\n",
      "8   2021-06-10  22.751953\n",
      "9   2021-06-11  22.990955\n",
      "10  2021-06-12  23.229958\n",
      "11  2021-06-13  23.468958\n",
      "12  2021-06-14  22.979167\n",
      "13  2021-06-15  24.138889\n",
      "14  2021-06-16  23.701389\n",
      "15  2021-06-17  23.395833\n",
      "16  2021-06-18  22.576389\n",
      "17  2021-06-19  21.812500\n",
      "18  2021-06-20  20.742268\n",
      "19  2021-06-21  21.142857\n",
      "20  2021-06-22  20.215278\n",
      "21  2021-06-23  20.562500\n",
      "22  2021-06-24  19.771930\n"
     ]
    }
   ],
   "source": [
    "# Room2 Temp file call again to modify for final SAVE File for Tiago ---Ok-OK-OK--- cell -8\n",
    "\n",
    "missing_value_room2 = pd.read_csv('missing_value_temp_room2.csv')\n",
    "print(missing_value_room2)"
   ]
  },
  {
   "cell_type": "code",
   "execution_count": 333,
   "metadata": {},
   "outputs": [],
   "source": [
    "# Room2 Temp file Modify ---cell -9\n",
    "\n",
    "missing_value_room2 = pd.DataFrame(missing_value_room2)"
   ]
  },
  {
   "cell_type": "code",
   "execution_count": 334,
   "metadata": {},
   "outputs": [],
   "source": [
    "# Room2 Temp file Modify ---cell -10\n",
    "\n",
    "missing_value_room2.rename(columns={missing_value_room2.columns[0]:'Timestamp', 'temp_mean':'temp'}, inplace=True)\n"
   ]
  },
  {
   "cell_type": "code",
   "execution_count": 335,
   "metadata": {},
   "outputs": [
    {
     "name": "stdout",
     "output_type": "stream",
     "text": [
      "     Timestamp       temp\n",
      "0   2021-06-02  22.687500\n",
      "1   2021-06-03  21.041667\n",
      "2   2021-06-04  20.368056\n",
      "3   2021-06-05  20.868056\n",
      "4   2021-06-06  21.465278\n",
      "5   2021-06-07  21.944444\n",
      "6   2021-06-08  22.388889\n",
      "7   2021-06-09  22.172727\n",
      "8   2021-06-10  22.751953\n",
      "9   2021-06-11  22.990955\n",
      "10  2021-06-12  23.229958\n",
      "11  2021-06-13  23.468958\n",
      "12  2021-06-14  22.979167\n",
      "13  2021-06-15  24.138889\n",
      "14  2021-06-16  23.701389\n",
      "15  2021-06-17  23.395833\n",
      "16  2021-06-18  22.576389\n",
      "17  2021-06-19  21.812500\n",
      "18  2021-06-20  20.742268\n",
      "19  2021-06-21  21.142857\n",
      "20  2021-06-22  20.215278\n",
      "21  2021-06-23  20.562500\n",
      "22  2021-06-24  19.771930\n"
     ]
    }
   ],
   "source": [
    "print(missing_value_room2)"
   ]
  },
  {
   "cell_type": "code",
   "execution_count": 336,
   "metadata": {},
   "outputs": [],
   "source": [
    "# Now Save the File Again in New Name ---cell -11\n",
    "\n",
    "#missing_value_room2.to_csv('room2_temp_missing_value.csv')"
   ]
  },
  {
   "cell_type": "code",
   "execution_count": 337,
   "metadata": {},
   "outputs": [],
   "source": [
    "df_missingvalue_room2 = pd.read_csv('room2_temp_missing_value.csv')"
   ]
  },
  {
   "cell_type": "code",
   "execution_count": 338,
   "metadata": {},
   "outputs": [
    {
     "name": "stdout",
     "output_type": "stream",
     "text": [
      "    Unnamed: 0   Timestamp       temp\n",
      "0            0  2021-06-02  22.687500\n",
      "1            1  2021-06-03  21.041667\n",
      "2            2  2021-06-04  20.368056\n",
      "3            3  2021-06-05  20.868056\n",
      "4            4  2021-06-06  21.465278\n",
      "5            5  2021-06-07  21.944444\n",
      "6            6  2021-06-08  22.388889\n",
      "7            7  2021-06-09  22.172727\n",
      "8            8  2021-06-10  22.751953\n",
      "9            9  2021-06-11  22.990955\n",
      "10          10  2021-06-12  23.229958\n",
      "11          11  2021-06-13  23.468958\n",
      "12          12  2021-06-14  22.979167\n",
      "13          13  2021-06-15  24.138889\n",
      "14          14  2021-06-16  23.701389\n",
      "15          15  2021-06-17  23.395833\n",
      "16          16  2021-06-18  22.576389\n",
      "17          17  2021-06-19  21.812500\n",
      "18          18  2021-06-20  20.742268\n",
      "19          19  2021-06-21  21.142857\n",
      "20          20  2021-06-22  20.215278\n",
      "21          21  2021-06-23  20.562500\n",
      "22          22  2021-06-24  19.771930\n"
     ]
    }
   ],
   "source": [
    "print(df_missingvalue_room2)"
   ]
  },
  {
   "cell_type": "code",
   "execution_count": 90,
   "metadata": {},
   "outputs": [
    {
     "data": {
      "image/png": "[encoded data removed]",
      "text/plain": [
       "<Figure size 720x432 with 1 Axes>"
      ]
     },
     "execution_count": 90,
     "metadata": {},
     "output_type": "execute_result"
    },
    {
     "data": {
      "image/png": "[encoded data removed]",
      "text/plain": [
       "<Figure size 720x432 with 1 Axes>"
      ]
     },
     "metadata": {},
     "output_type": "display_data"
    }
   ],
   "source": [
    "#plot\n",
    "\n",
    "m.plot(prediction)\n"
   ]
  },
  {
   "cell_type": "code",
   "execution_count": 91,
   "metadata": {},
   "outputs": [
    {
     "data": {
      "image/png": "[encoded data removed]",
      "text/plain": [
       "<Figure size 720x432 with 2 Axes>"
      ]
     },
     "metadata": {},
     "output_type": "display_data"
    }
   ],
   "source": [
    "component = m.plot_components(prediction)"
   ]
  },
  {
   "cell_type": "code",
   "execution_count": null,
   "metadata": {},
   "outputs": [],
   "source": []
  },
  {
   "cell_type": "code",
   "execution_count": null,
   "metadata": {},
   "outputs": [],
   "source": []
  },
  {
   "cell_type": "code",
   "execution_count": 13,
   "metadata": {},
   "outputs": [],
   "source": [
    "df = pd.read_csv('temp_room2_datetime.csv', parse_dates=[\"Timestamp\"], index_col=\"Timestamp\", encoding='utf-8')"
   ]
  },
  {
   "cell_type": "code",
   "execution_count": 14,
   "metadata": {},
   "outputs": [],
   "source": [
    "df_mean = df.groupby(pd.Grouper(freq='d')).mean().dropna().rename(columns={\"temp\":\"temp_mean\"}).copy()"
   ]
  },
  {
   "cell_type": "code",
   "execution_count": 15,
   "metadata": {},
   "outputs": [
    {
     "ename": "KeyError",
     "evalue": "\"['Timestamp'] not in index\"",
     "output_type": "error",
     "traceback": [
      "\u001b[1;31m---------------------------------------------------------------------------\u001b[0m",
      "\u001b[1;31mKeyError\u001b[0m                                  Traceback (most recent call last)",
      "\u001b[1;32m<ipython-input-15-e9e4344cbaf0>\u001b[0m in \u001b[0;36m<module>\u001b[1;34m\u001b[0m\n\u001b[1;32m----> 1\u001b[1;33m \u001b[0mdf_per_day\u001b[0m \u001b[1;33m=\u001b[0m \u001b[0mdf_mean\u001b[0m\u001b[1;33m[\u001b[0m\u001b[1;33m[\u001b[0m\u001b[1;34m'Timestamp'\u001b[0m\u001b[1;33m,\u001b[0m\u001b[1;34m'temp_mean'\u001b[0m\u001b[1;33m]\u001b[0m\u001b[1;33m]\u001b[0m\u001b[1;33m\u001b[0m\u001b[1;33m\u001b[0m\u001b[0m\n\u001b[0m\u001b[0;32m      2\u001b[0m \u001b[0mdf_per_day\u001b[0m\u001b[1;33m.\u001b[0m\u001b[0mshape\u001b[0m\u001b[1;33m\u001b[0m\u001b[1;33m\u001b[0m\u001b[0m\n",
      "\u001b[1;32m~\\.conda\\envs\\tensorflow\\lib\\site-packages\\pandas\\core\\frame.py\u001b[0m in \u001b[0;36m__getitem__\u001b[1;34m(self, key)\u001b[0m\n\u001b[0;32m   2906\u001b[0m             \u001b[1;32mif\u001b[0m \u001b[0mis_iterator\u001b[0m\u001b[1;33m(\u001b[0m\u001b[0mkey\u001b[0m\u001b[1;33m)\u001b[0m\u001b[1;33m:\u001b[0m\u001b[1;33m\u001b[0m\u001b[1;33m\u001b[0m\u001b[0m\n\u001b[0;32m   2907\u001b[0m                 \u001b[0mkey\u001b[0m \u001b[1;33m=\u001b[0m \u001b[0mlist\u001b[0m\u001b[1;33m(\u001b[0m\u001b[0mkey\u001b[0m\u001b[1;33m)\u001b[0m\u001b[1;33m\u001b[0m\u001b[1;33m\u001b[0m\u001b[0m\n\u001b[1;32m-> 2908\u001b[1;33m             \u001b[0mindexer\u001b[0m \u001b[1;33m=\u001b[0m \u001b[0mself\u001b[0m\u001b[1;33m.\u001b[0m\u001b[0mloc\u001b[0m\u001b[1;33m.\u001b[0m\u001b[0m_get_listlike_indexer\u001b[0m\u001b[1;33m(\u001b[0m\u001b[0mkey\u001b[0m\u001b[1;33m,\u001b[0m \u001b[0maxis\u001b[0m\u001b[1;33m=\u001b[0m\u001b[1;36m1\u001b[0m\u001b[1;33m,\u001b[0m \u001b[0mraise_missing\u001b[0m\u001b[1;33m=\u001b[0m\u001b[1;32mTrue\u001b[0m\u001b[1;33m)\u001b[0m\u001b[1;33m[\u001b[0m\u001b[1;36m1\u001b[0m\u001b[1;33m]\u001b[0m\u001b[1;33m\u001b[0m\u001b[1;33m\u001b[0m\u001b[0m\n\u001b[0m\u001b[0;32m   2909\u001b[0m \u001b[1;33m\u001b[0m\u001b[0m\n\u001b[0;32m   2910\u001b[0m         \u001b[1;31m# take() does not accept boolean indexers\u001b[0m\u001b[1;33m\u001b[0m\u001b[1;33m\u001b[0m\u001b[1;33m\u001b[0m\u001b[0m\n",
      "\u001b[1;32m~\\.conda\\envs\\tensorflow\\lib\\site-packages\\pandas\\core\\indexing.py\u001b[0m in \u001b[0;36m_get_listlike_indexer\u001b[1;34m(self, key, axis, raise_missing)\u001b[0m\n\u001b[0;32m   1252\u001b[0m             \u001b[0mkeyarr\u001b[0m\u001b[1;33m,\u001b[0m \u001b[0mindexer\u001b[0m\u001b[1;33m,\u001b[0m \u001b[0mnew_indexer\u001b[0m \u001b[1;33m=\u001b[0m \u001b[0max\u001b[0m\u001b[1;33m.\u001b[0m\u001b[0m_reindex_non_unique\u001b[0m\u001b[1;33m(\u001b[0m\u001b[0mkeyarr\u001b[0m\u001b[1;33m)\u001b[0m\u001b[1;33m\u001b[0m\u001b[1;33m\u001b[0m\u001b[0m\n\u001b[0;32m   1253\u001b[0m \u001b[1;33m\u001b[0m\u001b[0m\n\u001b[1;32m-> 1254\u001b[1;33m         \u001b[0mself\u001b[0m\u001b[1;33m.\u001b[0m\u001b[0m_validate_read_indexer\u001b[0m\u001b[1;33m(\u001b[0m\u001b[0mkeyarr\u001b[0m\u001b[1;33m,\u001b[0m \u001b[0mindexer\u001b[0m\u001b[1;33m,\u001b[0m \u001b[0maxis\u001b[0m\u001b[1;33m,\u001b[0m \u001b[0mraise_missing\u001b[0m\u001b[1;33m=\u001b[0m\u001b[0mraise_missing\u001b[0m\u001b[1;33m)\u001b[0m\u001b[1;33m\u001b[0m\u001b[1;33m\u001b[0m\u001b[0m\n\u001b[0m\u001b[0;32m   1255\u001b[0m         \u001b[1;32mreturn\u001b[0m \u001b[0mkeyarr\u001b[0m\u001b[1;33m,\u001b[0m \u001b[0mindexer\u001b[0m\u001b[1;33m\u001b[0m\u001b[1;33m\u001b[0m\u001b[0m\n\u001b[0;32m   1256\u001b[0m \u001b[1;33m\u001b[0m\u001b[0m\n",
      "\u001b[1;32m~\\.conda\\envs\\tensorflow\\lib\\site-packages\\pandas\\core\\indexing.py\u001b[0m in \u001b[0;36m_validate_read_indexer\u001b[1;34m(self, key, indexer, axis, raise_missing)\u001b[0m\n\u001b[0;32m   1302\u001b[0m             \u001b[1;32mif\u001b[0m \u001b[0mraise_missing\u001b[0m\u001b[1;33m:\u001b[0m\u001b[1;33m\u001b[0m\u001b[1;33m\u001b[0m\u001b[0m\n\u001b[0;32m   1303\u001b[0m                 \u001b[0mnot_found\u001b[0m \u001b[1;33m=\u001b[0m \u001b[0mlist\u001b[0m\u001b[1;33m(\u001b[0m\u001b[0mset\u001b[0m\u001b[1;33m(\u001b[0m\u001b[0mkey\u001b[0m\u001b[1;33m)\u001b[0m \u001b[1;33m-\u001b[0m \u001b[0mset\u001b[0m\u001b[1;33m(\u001b[0m\u001b[0max\u001b[0m\u001b[1;33m)\u001b[0m\u001b[1;33m)\u001b[0m\u001b[1;33m\u001b[0m\u001b[1;33m\u001b[0m\u001b[0m\n\u001b[1;32m-> 1304\u001b[1;33m                 \u001b[1;32mraise\u001b[0m \u001b[0mKeyError\u001b[0m\u001b[1;33m(\u001b[0m\u001b[1;34mf\"{not_found} not in index\"\u001b[0m\u001b[1;33m)\u001b[0m\u001b[1;33m\u001b[0m\u001b[1;33m\u001b[0m\u001b[0m\n\u001b[0m\u001b[0;32m   1305\u001b[0m \u001b[1;33m\u001b[0m\u001b[0m\n\u001b[0;32m   1306\u001b[0m             \u001b[1;31m# we skip the warning on Categorical\u001b[0m\u001b[1;33m\u001b[0m\u001b[1;33m\u001b[0m\u001b[1;33m\u001b[0m\u001b[0m\n",
      "\u001b[1;31mKeyError\u001b[0m: \"['Timestamp'] not in index\""
     ]
    }
   ],
   "source": [
    "df_per_day = df_mean[['Timestamp','temp_mean']] \n",
    "df_per_day.shape"
   ]
  }
 ],
 "metadata": {
  "kernelspec": {
   "display_name": "Python 3",
   "language": "python",
   "name": "python3"
  },
  "language_info": {
   "codemirror_mode": {
    "name": "ipython",
    "version": 3
   },
   "file_extension": ".py",
   "mimetype": "text/x-python",
   "name": "python",
   "nbconvert_exporter": "python",
   "pygments_lexer": "ipython3",
   "version": "3.6.12"
  }
 },
 "nbformat": 4,
 "nbformat_minor": 4
}
