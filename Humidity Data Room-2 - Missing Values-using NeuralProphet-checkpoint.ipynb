{
 "cells": [
  {
   "cell_type": "code",
   "execution_count": 2,
   "metadata": {},
   "outputs": [],
   "source": [
    "import pandas as pd\n",
    "import numpy as np\n",
    "from neuralprophet import NeuralProphet\n",
    "import pickle\n",
    "from datetime import datetime\n",
    "from matplotlib.pyplot import *\n",
    "import matplotlib.pylab as plt\n",
    "import seaborn as sns\n",
    "plt.close(\"all\")\n",
    "import matplotlib.ticker as mticker\n",
    "import matplotlib.dates as mdates\n",
    "%matplotlib inline"
   ]
  },
  {
   "cell_type": "code",
   "execution_count": 3,
   "metadata": {},
   "outputs": [
    {
     "data": {
      "text/html": [
       "<div>\n",
       "<style scoped>\n",
       "    .dataframe tbody tr th:only-of-type {\n",
       "        vertical-align: middle;\n",
       "    }\n",
       "\n",
       "    .dataframe tbody tr th {\n",
       "        vertical-align: top;\n",
       "    }\n",
       "\n",
       "    .dataframe thead th {\n",
       "        text-align: right;\n",
       "    }\n",
       "</style>\n",
       "<table border=\"1\" class=\"dataframe\">\n",
       "  <thead>\n",
       "    <tr style=\"text-align: right;\">\n",
       "      <th></th>\n",
       "      <th>Timestamp</th>\n",
       "      <th>humidity</th>\n",
       "    </tr>\n",
       "  </thead>\n",
       "  <tbody>\n",
       "    <tr>\n",
       "      <th>0</th>\n",
       "      <td>6/2/21 16:00</td>\n",
       "      <td>57</td>\n",
       "    </tr>\n",
       "    <tr>\n",
       "      <th>1</th>\n",
       "      <td>6/2/21 16:10</td>\n",
       "      <td>57</td>\n",
       "    </tr>\n",
       "    <tr>\n",
       "      <th>2</th>\n",
       "      <td>6/2/21 16:20</td>\n",
       "      <td>57</td>\n",
       "    </tr>\n",
       "    <tr>\n",
       "      <th>3</th>\n",
       "      <td>6/2/21 16:30</td>\n",
       "      <td>57</td>\n",
       "    </tr>\n",
       "    <tr>\n",
       "      <th>4</th>\n",
       "      <td>6/2/21 16:40</td>\n",
       "      <td>57</td>\n",
       "    </tr>\n",
       "    <tr>\n",
       "      <th>5</th>\n",
       "      <td>6/2/21 16:50</td>\n",
       "      <td>57</td>\n",
       "    </tr>\n",
       "    <tr>\n",
       "      <th>6</th>\n",
       "      <td>6/2/21 17:00</td>\n",
       "      <td>56</td>\n",
       "    </tr>\n",
       "    <tr>\n",
       "      <th>7</th>\n",
       "      <td>6/2/21 17:10</td>\n",
       "      <td>56</td>\n",
       "    </tr>\n",
       "    <tr>\n",
       "      <th>8</th>\n",
       "      <td>6/2/21 17:20</td>\n",
       "      <td>56</td>\n",
       "    </tr>\n",
       "    <tr>\n",
       "      <th>9</th>\n",
       "      <td>6/2/21 17:30</td>\n",
       "      <td>56</td>\n",
       "    </tr>\n",
       "  </tbody>\n",
       "</table>\n",
       "</div>"
      ],
      "text/plain": [
       "      Timestamp  humidity\n",
       "0  6/2/21 16:00        57\n",
       "1  6/2/21 16:10        57\n",
       "2  6/2/21 16:20        57\n",
       "3  6/2/21 16:30        57\n",
       "4  6/2/21 16:40        57\n",
       "5  6/2/21 16:50        57\n",
       "6  6/2/21 17:00        56\n",
       "7  6/2/21 17:10        56\n",
       "8  6/2/21 17:20        56\n",
       "9  6/2/21 17:30        56"
      ]
     },
     "execution_count": 3,
     "metadata": {},
     "output_type": "execute_result"
    }
   ],
   "source": [
    "#Neural Network \"read-csv-file-to-fill-up-missing-value\" cell-- 01\n",
    "\n",
    "df = pd.read_csv('humidity_room2_datetime.csv')\n",
    "\n",
    "df.head(10)"
   ]
  },
  {
   "cell_type": "code",
   "execution_count": 4,
   "metadata": {},
   "outputs": [],
   "source": [
    "#Neural Network \"Slice-rows-with-Timestamp\" cell-- 02\n",
    "\n",
    "df1 = df.loc[(df.Timestamp >= '6/2/21 16:00') & (df.Timestamp <= '6/9/21 23:50') ].copy()"
   ]
  },
  {
   "cell_type": "code",
   "execution_count": 5,
   "metadata": {},
   "outputs": [
    {
     "name": "stdout",
     "output_type": "stream",
     "text": [
      "         Timestamp  humidity\n",
      "1017  6/9/21 17:30        50\n",
      "1018  6/9/21 17:40        50\n",
      "1019  6/9/21 17:50        50\n",
      "1020  6/9/21 18:00        50\n",
      "1021  6/9/21 18:10        50\n",
      "<class 'pandas.core.frame.DataFrame'>\n",
      "Int64Index: 974 entries, 0 to 1021\n",
      "Data columns (total 2 columns):\n",
      " #   Column     Non-Null Count  Dtype \n",
      "---  ------     --------------  ----- \n",
      " 0   Timestamp  974 non-null    object\n",
      " 1   humidity   974 non-null    int64 \n",
      "dtypes: int64(1), object(1)\n",
      "memory usage: 22.8+ KB\n"
     ]
    }
   ],
   "source": [
    "#Neural Network \"print-dataframe\" cell-- 03\n",
    "\n",
    "print(df1.tail())\n",
    "df1.info()"
   ]
  },
  {
   "cell_type": "code",
   "execution_count": 6,
   "metadata": {},
   "outputs": [
    {
     "data": {
      "text/plain": [
       "(974, 2)"
      ]
     },
     "execution_count": 6,
     "metadata": {},
     "output_type": "execute_result"
    }
   ],
   "source": [
    "#Neural Network cell-- 04\n",
    "\n",
    "df_per_day = df1[['Timestamp','humidity']] \n",
    "df_per_day.shape"
   ]
  },
  {
   "cell_type": "code",
   "execution_count": 7,
   "metadata": {},
   "outputs": [],
   "source": [
    "#Neural Network \"Rename-columns\" cell-- 05\n",
    "\n",
    "df_per_day.rename(columns={\"Timestamp\":\"ds\",\"humidity\":\"y\"}, inplace=True)"
   ]
  },
  {
   "cell_type": "code",
   "execution_count": 8,
   "metadata": {},
   "outputs": [],
   "source": [
    "#Neural Network \"train-test\" cell-- 06\n",
    "\n",
    "#train = df_per_day[:219]\n",
    "train = df_per_day[:]\n",
    "test = df_per_day[219:]\n",
    "#train.tail()"
   ]
  },
  {
   "cell_type": "code",
   "execution_count": 9,
   "metadata": {},
   "outputs": [],
   "source": [
    "#Neural Network \"NeuralProphet-algorithm\" cell-- 07\n",
    "\n",
    "#Model \n",
    "\n",
    "m = NeuralProphet()"
   ]
  },
  {
   "cell_type": "code",
   "execution_count": 10,
   "metadata": {},
   "outputs": [
    {
     "name": "stderr",
     "output_type": "stream",
     "text": [
      "INFO - (NP.utils.set_auto_seasonalities) - Disabling yearly seasonality. Run NeuralProphet with yearly_seasonality=True to override this.\n",
      "INFO - (NP.utils.set_auto_seasonalities) - Disabling weekly seasonality. Run NeuralProphet with weekly_seasonality=True to override this.\n",
      "INFO - (NP.config.set_auto_batch_epoch) - Auto-set batch_size to 16\n"
     ]
    },
    {
     "data": {
      "application/vnd.jupyter.widget-view+json": {
       "model_id": "b2641a401a014f329083b5d48e196df0",
       "version_major": 2,
       "version_minor": 0
      },
      "text/plain": [
       "HBox(children=(HTML(value=''), FloatProgress(value=0.0, max=249.0), HTML(value='')))"
      ]
     },
     "metadata": {},
     "output_type": "display_data"
    },
    {
     "name": "stderr",
     "output_type": "stream",
     "text": [
      "INFO - (NP.utils_torch.lr_range_test) - lr-range-test results: steep: 7.43E-02, min: 5.12E-01\n",
      "INFO - (NP.utils_torch.lr_range_test) - learning rate range test selected lr: 2.69E-01\n",
      "Epoch[1000/1000]: 100%|█████| 1000/1000 [01:19<00:00, 12.51it/s, SmoothL1Loss=0.00199, MAE=0.506, MSE=0.398, RegLoss=0]\n"
     ]
    }
   ],
   "source": [
    "#Neural Network \"Run-Model\" cell-- 08\n",
    "\n",
    "#Fit Model\n",
    "\n",
    "model = m.fit(train, freq='D', epochs=1000)"
   ]
  },
  {
   "cell_type": "code",
   "execution_count": 11,
   "metadata": {},
   "outputs": [
    {
     "data": {
      "text/html": [
       "<div>\n",
       "<style scoped>\n",
       "    .dataframe tbody tr th:only-of-type {\n",
       "        vertical-align: middle;\n",
       "    }\n",
       "\n",
       "    .dataframe tbody tr th {\n",
       "        vertical-align: top;\n",
       "    }\n",
       "\n",
       "    .dataframe thead th {\n",
       "        text-align: right;\n",
       "    }\n",
       "</style>\n",
       "<table border=\"1\" class=\"dataframe\">\n",
       "  <thead>\n",
       "    <tr style=\"text-align: right;\">\n",
       "      <th></th>\n",
       "      <th>ds</th>\n",
       "      <th>y</th>\n",
       "      <th>t</th>\n",
       "      <th>y_scaled</th>\n",
       "    </tr>\n",
       "  </thead>\n",
       "  <tbody>\n",
       "    <tr>\n",
       "      <th>0</th>\n",
       "      <td>2021-06-10 18:10:00</td>\n",
       "      <td>None</td>\n",
       "      <td>1.141038</td>\n",
       "      <td>NaN</td>\n",
       "    </tr>\n",
       "    <tr>\n",
       "      <th>1</th>\n",
       "      <td>2021-06-11 18:10:00</td>\n",
       "      <td>None</td>\n",
       "      <td>1.282076</td>\n",
       "      <td>NaN</td>\n",
       "    </tr>\n",
       "    <tr>\n",
       "      <th>2</th>\n",
       "      <td>2021-06-12 18:10:00</td>\n",
       "      <td>None</td>\n",
       "      <td>1.423115</td>\n",
       "      <td>NaN</td>\n",
       "    </tr>\n",
       "    <tr>\n",
       "      <th>3</th>\n",
       "      <td>2021-06-13 18:10:00</td>\n",
       "      <td>None</td>\n",
       "      <td>1.564153</td>\n",
       "      <td>NaN</td>\n",
       "    </tr>\n",
       "    <tr>\n",
       "      <th>4</th>\n",
       "      <td>2021-06-14 18:10:00</td>\n",
       "      <td>None</td>\n",
       "      <td>1.705191</td>\n",
       "      <td>NaN</td>\n",
       "    </tr>\n",
       "  </tbody>\n",
       "</table>\n",
       "</div>"
      ],
      "text/plain": [
       "                   ds     y         t y_scaled\n",
       "0 2021-06-10 18:10:00  None  1.141038      NaN\n",
       "1 2021-06-11 18:10:00  None  1.282076      NaN\n",
       "2 2021-06-12 18:10:00  None  1.423115      NaN\n",
       "3 2021-06-13 18:10:00  None  1.564153      NaN\n",
       "4 2021-06-14 18:10:00  None  1.705191      NaN"
      ]
     },
     "execution_count": 11,
     "metadata": {},
     "output_type": "execute_result"
    }
   ],
   "source": [
    "#Neural Network \"Future-Date\" cell-- 09\n",
    "\n",
    "#Future Date\n",
    "\n",
    "future_dates = m.make_future_dataframe(train, periods=35)\n",
    "\n",
    "future_dates.head()"
   ]
  },
  {
   "cell_type": "code",
   "execution_count": 12,
   "metadata": {},
   "outputs": [
    {
     "data": {
      "text/html": [
       "<div>\n",
       "<style scoped>\n",
       "    .dataframe tbody tr th:only-of-type {\n",
       "        vertical-align: middle;\n",
       "    }\n",
       "\n",
       "    .dataframe tbody tr th {\n",
       "        vertical-align: top;\n",
       "    }\n",
       "\n",
       "    .dataframe thead th {\n",
       "        text-align: right;\n",
       "    }\n",
       "</style>\n",
       "<table border=\"1\" class=\"dataframe\">\n",
       "  <thead>\n",
       "    <tr style=\"text-align: right;\">\n",
       "      <th></th>\n",
       "      <th>ds</th>\n",
       "      <th>y</th>\n",
       "      <th>yhat1</th>\n",
       "      <th>residual1</th>\n",
       "      <th>trend</th>\n",
       "      <th>season_daily</th>\n",
       "    </tr>\n",
       "  </thead>\n",
       "  <tbody>\n",
       "    <tr>\n",
       "      <th>0</th>\n",
       "      <td>2021-06-10 18:10:00</td>\n",
       "      <td>None</td>\n",
       "      <td>46.550228</td>\n",
       "      <td>NaN</td>\n",
       "      <td>48.068745</td>\n",
       "      <td>-1.518516</td>\n",
       "    </tr>\n",
       "    <tr>\n",
       "      <th>1</th>\n",
       "      <td>2021-06-11 18:10:00</td>\n",
       "      <td>None</td>\n",
       "      <td>43.802555</td>\n",
       "      <td>NaN</td>\n",
       "      <td>45.321072</td>\n",
       "      <td>-1.518516</td>\n",
       "    </tr>\n",
       "    <tr>\n",
       "      <th>2</th>\n",
       "      <td>2021-06-12 18:10:00</td>\n",
       "      <td>None</td>\n",
       "      <td>41.054878</td>\n",
       "      <td>NaN</td>\n",
       "      <td>42.573395</td>\n",
       "      <td>-1.518516</td>\n",
       "    </tr>\n",
       "    <tr>\n",
       "      <th>3</th>\n",
       "      <td>2021-06-13 18:10:00</td>\n",
       "      <td>None</td>\n",
       "      <td>38.307201</td>\n",
       "      <td>NaN</td>\n",
       "      <td>39.825718</td>\n",
       "      <td>-1.518516</td>\n",
       "    </tr>\n",
       "    <tr>\n",
       "      <th>4</th>\n",
       "      <td>2021-06-14 18:10:00</td>\n",
       "      <td>None</td>\n",
       "      <td>35.559525</td>\n",
       "      <td>NaN</td>\n",
       "      <td>37.078041</td>\n",
       "      <td>-1.518516</td>\n",
       "    </tr>\n",
       "  </tbody>\n",
       "</table>\n",
       "</div>"
      ],
      "text/plain": [
       "                   ds     y      yhat1 residual1      trend  season_daily\n",
       "0 2021-06-10 18:10:00  None  46.550228       NaN  48.068745     -1.518516\n",
       "1 2021-06-11 18:10:00  None  43.802555       NaN  45.321072     -1.518516\n",
       "2 2021-06-12 18:10:00  None  41.054878       NaN  42.573395     -1.518516\n",
       "3 2021-06-13 18:10:00  None  38.307201       NaN  39.825718     -1.518516\n",
       "4 2021-06-14 18:10:00  None  35.559525       NaN  37.078041     -1.518516"
      ]
     },
     "execution_count": 12,
     "metadata": {},
     "output_type": "execute_result"
    }
   ],
   "source": [
    "#Neural Network \"Prediction-future-values\" cell-- 10\n",
    "\n",
    "\n",
    "prediction = m.predict(future_dates)\n",
    "prediction.head()\n",
    "#print(prediction)"
   ]
  },
  {
   "cell_type": "code",
   "execution_count": 13,
   "metadata": {},
   "outputs": [
    {
     "name": "stdout",
     "output_type": "stream",
     "text": [
      "<class 'pandas.core.frame.DataFrame'>\n",
      "RangeIndex: 35 entries, 0 to 34\n",
      "Data columns (total 6 columns):\n",
      " #   Column        Non-Null Count  Dtype         \n",
      "---  ------        --------------  -----         \n",
      " 0   ds            35 non-null     datetime64[ns]\n",
      " 1   y             0 non-null      object        \n",
      " 2   yhat1         35 non-null     float64       \n",
      " 3   residual1     0 non-null      object        \n",
      " 4   trend         35 non-null     float64       \n",
      " 5   season_daily  35 non-null     float64       \n",
      "dtypes: datetime64[ns](1), float64(3), object(2)\n",
      "memory usage: 1.8+ KB\n"
     ]
    }
   ],
   "source": [
    "#Neural Network \"Table-info\" cell-- 11\n",
    "\n",
    "prediction.info()"
   ]
  },
  {
   "cell_type": "code",
   "execution_count": 14,
   "metadata": {},
   "outputs": [
    {
     "name": "stdout",
     "output_type": "stream",
     "text": [
      "                   ds      yhat1\n",
      "0 2021-06-10 18:10:00  46.550228\n",
      "1 2021-06-11 18:10:00  43.802555\n",
      "2 2021-06-12 18:10:00  41.054878\n",
      "3 2021-06-13 18:10:00  38.307201\n",
      "4 2021-06-14 18:10:00  35.559525\n"
     ]
    }
   ],
   "source": [
    "#Neural Network \"separate-Columns-from-Table\" cell-- 12\n",
    "\n",
    "df2 = pd.DataFrame(prediction, columns=['ds','yhat1'])\n",
    "\n",
    "print(df2.head())"
   ]
  },
  {
   "cell_type": "code",
   "execution_count": 15,
   "metadata": {},
   "outputs": [
    {
     "name": "stdout",
     "output_type": "stream",
     "text": [
      "                   ds      yhat1\n",
      "0 2021-06-10 18:10:00  46.550228\n",
      "1 2021-06-11 18:10:00  43.802555\n",
      "2 2021-06-12 18:10:00  41.054878\n",
      "3 2021-06-13 18:10:00  38.307201\n"
     ]
    }
   ],
   "source": [
    "#Neural Network \"slice-row-with-Timestamp\" cell-- 13\n",
    "\n",
    "df3 = df2.loc[(df2.ds >= '2021-06-10 18:10:00') & (df2.ds <= '2021-06-13 18:10:00') ].copy()\n",
    "print(df3)"
   ]
  },
  {
   "cell_type": "code",
   "execution_count": 16,
   "metadata": {},
   "outputs": [
    {
     "name": "stdout",
     "output_type": "stream",
     "text": [
      "            humidity_mean\n",
      "Timestamp                \n",
      "2021-06-10      46.550228\n",
      "2021-06-11      43.802555\n",
      "2021-06-12      41.054878\n",
      "2021-06-13      38.307201\n"
     ]
    }
   ],
   "source": [
    "#Neural Network \"rename-columns-and-set_index\" cell-- 14\n",
    "\n",
    "df3.rename(columns={'ds':'Timestamp','yhat1':'humidity_mean'}, inplace=True)\n",
    "df3['Timestamp'] = pd.to_datetime(df3['Timestamp']).dt.date\n",
    "df3.set_index('Timestamp', inplace=True)\n",
    "\n",
    "print(df3)"
   ]
  },
  {
   "cell_type": "code",
   "execution_count": 17,
   "metadata": {},
   "outputs": [],
   "source": [
    "# Room2 Humidity csv file -- cell -1\n",
    "\n",
    "df_2 = pd.read_csv('humidity_room2_datetime.csv', parse_dates=[\"Timestamp\"], index_col=\"Timestamp\", encoding='utf-8')"
   ]
  },
  {
   "cell_type": "code",
   "execution_count": 18,
   "metadata": {},
   "outputs": [],
   "source": [
    "# Room2 Humidity Mean value -- cell -2\n",
    "\n",
    "df_mean_room2 = df_2.groupby(pd.Grouper(freq='d')).mean().dropna().rename(columns={\"humidity\":\"humidity_mean\"}).copy()"
   ]
  },
  {
   "cell_type": "code",
   "execution_count": 19,
   "metadata": {},
   "outputs": [
    {
     "name": "stdout",
     "output_type": "stream",
     "text": [
      "            humidity_mean\n",
      "2021-06-02      56.270833\n",
      "2021-06-03      57.256944\n",
      "2021-06-04      54.791667\n",
      "2021-06-05      51.361111\n",
      "2021-06-06      51.243056\n",
      "2021-06-07      52.090278\n",
      "2021-06-08      53.805556\n",
      "2021-06-09      52.400000\n",
      "2021-06-10            NaN\n",
      "2021-06-11            NaN\n",
      "2021-06-12            NaN\n",
      "2021-06-13            NaN\n",
      "2021-06-14      33.125000\n",
      "2021-06-15      45.951389\n",
      "2021-06-16      43.048611\n",
      "2021-06-17      51.881944\n",
      "2021-06-18      57.062500\n",
      "2021-06-19      57.618056\n",
      "2021-06-20      56.876289\n",
      "2021-06-21      60.380952\n",
      "2021-06-22      60.611111\n",
      "2021-06-23      56.166667\n",
      "2021-06-24      52.157895\n"
     ]
    }
   ],
   "source": [
    "# Room2 Humidity Mean value -- cell -3\n",
    "\n",
    "idx = pd.date_range('2021-06-02','2021-06-24')\n",
    "df_mean_room2.index = pd.DatetimeIndex(df_mean_room2.index)\n",
    "df_mean_room2 = df_mean_room2.reindex(idx,fill_value=np.nan).copy()\n",
    "\n",
    "print(df_mean_room2)"
   ]
  },
  {
   "cell_type": "code",
   "execution_count": 20,
   "metadata": {},
   "outputs": [
    {
     "data": {
      "image/png": "[encoded data removed]",
      "text/plain": [
       "<Figure size 864x360 with 1 Axes>"
      ]
     },
     "metadata": {
      "needs_background": "light"
     },
     "output_type": "display_data"
    }
   ],
   "source": [
    "# Room2 Humidity Mean value -- cell -4\n",
    "\n",
    "fig, ax = plt.subplots(figsize=(12,5))\n",
    "ax.set_ylim(0,26)\n",
    "\n",
    "ax.plot(df_mean_room2.loc['2021-06-02':'2021-06-24', 'humidity_mean'], marker='o', linestyle='-')\n",
    "ax = plt.gca()\n",
    "plt.autoscale(True, axis='both')\n",
    "#plt.grid(True)\n",
    "ax.set_ylabel('Daily Humidity in %', fontsize=14)\n",
    "ax.set_xlabel('June 2021', fontsize=14)\n",
    "ax.set_title('June 2021 Room2 Humidity in %', fontsize=16)\n",
    "ax.xaxis.set_major_locator(mdates.DayLocator())\n",
    "ax.xaxis.set_major_formatter(mdates.DateFormatter('%d'))\n",
    "plt.grid(True)"
   ]
  },
  {
   "cell_type": "code",
   "execution_count": 21,
   "metadata": {},
   "outputs": [
    {
     "name": "stdout",
     "output_type": "stream",
     "text": [
      "            humidity_mean\n",
      "2021-06-02      56.270833\n",
      "2021-06-03      57.256944\n",
      "2021-06-04      54.791667\n",
      "2021-06-05      51.361111\n",
      "2021-06-06      51.243056\n",
      "2021-06-07      52.090278\n",
      "2021-06-08      53.805556\n",
      "2021-06-09      52.400000\n",
      "2021-06-10      46.550228\n",
      "2021-06-11      43.802555\n",
      "2021-06-12      41.054878\n",
      "2021-06-13      38.307201\n",
      "2021-06-14      33.125000\n",
      "2021-06-15      45.951389\n",
      "2021-06-16      43.048611\n",
      "2021-06-17      51.881944\n",
      "2021-06-18      57.062500\n",
      "2021-06-19      57.618056\n",
      "2021-06-20      56.876289\n",
      "2021-06-21      60.380952\n",
      "2021-06-22      60.611111\n",
      "2021-06-23      56.166667\n",
      "2021-06-24      52.157895\n"
     ]
    }
   ],
   "source": [
    "# Room2 Humidity Mean value -- cell -5\n",
    "\n",
    "df_mean_room2 = df_mean_room2.combine_first(df3).copy()\n",
    "\n",
    "print(df_mean_room2)"
   ]
  },
  {
   "cell_type": "code",
   "execution_count": 22,
   "metadata": {},
   "outputs": [],
   "source": [
    "# Room2 Humidity value \"to SAVE in .csv\" -- cell -6\n",
    "\n",
    "#df_mean_room2.to_csv('missing_value_humidity_room2.csv') # Save the file to .csv"
   ]
  },
  {
   "cell_type": "code",
   "execution_count": 52,
   "metadata": {},
   "outputs": [
    {
     "data": {
      "image/png": "[encoded data removed]",
      "text/plain": [
       "<Figure size 864x360 with 1 Axes>"
      ]
     },
     "metadata": {
      "needs_background": "light"
     },
     "output_type": "display_data"
    }
   ],
   "source": [
    "# Room2 Humidity Mean value -- cell -6\n",
    "\n",
    "fig, ax = plt.subplots(figsize=(12,5))\n",
    "ax.set_ylim(0,26)\n",
    "\n",
    "#ax.plot(df_mean_room2.loc['2021-06-02':'2021-06-24', 'humidity_mean'], marker='o', linestyle='-')\n",
    "\n",
    "ax.plot(df_mean_room2.loc['2021-06-02':'2021-06-09', 'humidity_mean'], marker='o', linestyle='-', color='blue')\n",
    "ax.plot(df_mean_room2.loc['2021-06-09':'2021-06-14', 'humidity_mean'], marker='o', linestyle='--', color='green')\n",
    "ax.plot(df_mean_room2.loc['2021-06-14':'2021-06-24', 'humidity_mean'], marker='o', linestyle='-', color='blue')\n",
    "\n",
    "\n",
    "ax = plt.gca()\n",
    "plt.autoscale(True, axis='both')\n",
    "#plt.grid(True)\n",
    "ax.set_ylabel('Daily Humidity in %', fontsize=14)\n",
    "ax.set_xlabel('June 2021', fontsize=14)\n",
    "ax.set_title('June 2021 Room2 Humidity in %', fontsize=16)\n",
    "ax.xaxis.set_major_locator(mdates.DayLocator())\n",
    "ax.xaxis.set_major_formatter(mdates.DateFormatter('%d'))\n",
    "plt.grid(True)"
   ]
  },
  {
   "cell_type": "code",
   "execution_count": 50,
   "metadata": {},
   "outputs": [
    {
     "data": {
      "image/png": "[encoded data removed]",
      "text/plain": [
       "<Figure size 864x360 with 1 Axes>"
      ]
     },
     "metadata": {
      "needs_background": "light"
     },
     "output_type": "display_data"
    }
   ],
   "source": [
    "# Room2 Humidity Mean value -- cell -6\n",
    "\n",
    "fig, ax = plt.subplots(figsize=(12,5))\n",
    "ax.set_ylim(0,26)\n",
    "\n",
    "\n",
    "ax.plot(df_mean_room2.loc['2021-06-02':'2021-06-09', 'humidity_mean'], marker='o', linestyle='-', color='blue')\n",
    "ax.plot(df_mean_room2.loc['2021-06-09':'2021-06-14', 'humidity_mean'], marker='o', linestyle='--', color='red')\n",
    "ax.plot(df_mean_room2.loc['2021-06-14':'2021-06-24', 'humidity_mean'], marker='o', linestyle='-', color='blue')\n",
    "\n",
    "\n",
    "ax = plt.gca()\n",
    "plt.autoscale(True, axis='both')\n",
    "#plt.grid(True)\n",
    "ax.set_ylabel('Daily Humidity in %', fontsize=14)\n",
    "ax.set_xlabel('June 2021', fontsize=14)\n",
    "ax.set_title('June 2021 Room2 Humidity in %', fontsize=16)\n",
    "ax.xaxis.set_major_locator(mdates.DayLocator())\n",
    "ax.xaxis.set_major_formatter(mdates.DateFormatter('%d'))\n",
    "plt.grid(True)"
   ]
  },
  {
   "cell_type": "code",
   "execution_count": null,
   "metadata": {},
   "outputs": [],
   "source": []
  }
 ],
 "metadata": {
  "kernelspec": {
   "display_name": "Python 3",
   "language": "python",
   "name": "python3"
  },
  "language_info": {
   "codemirror_mode": {
    "name": "ipython",
    "version": 3
   },
   "file_extension": ".py",
   "mimetype": "text/x-python",
   "name": "python",
   "nbconvert_exporter": "python",
   "pygments_lexer": "ipython3",
   "version": "3.6.12"
  }
 },
 "nbformat": 4,
 "nbformat_minor": 4
}
