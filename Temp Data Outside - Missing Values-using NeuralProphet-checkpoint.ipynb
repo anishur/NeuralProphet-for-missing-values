{
 "cells": [
  {
   "cell_type": "code",
   "execution_count": 434,
   "metadata": {},
   "outputs": [],
   "source": [
    "import pandas as pd\n",
    "import numpy as np\n",
    "from neuralprophet import NeuralProphet\n",
    "import pickle\n",
    "from datetime import datetime\n",
    "from matplotlib.pyplot import *\n",
    "import matplotlib.pylab as plt\n",
    "import seaborn as sns\n",
    "plt.close(\"all\")\n",
    "import matplotlib.ticker as mticker\n",
    "import matplotlib.dates as mdates\n",
    "%matplotlib inline"
   ]
  },
  {
   "cell_type": "code",
   "execution_count": 435,
   "metadata": {},
   "outputs": [
    {
     "data": {
      "text/plain": [
       "2740"
      ]
     },
     "execution_count": 435,
     "metadata": {},
     "output_type": "execute_result"
    }
   ],
   "source": [
    "#Neural Network \"read-csv-file-to-fill-up-missing-value\" cell-- 01\n",
    "\n",
    "df = pd.read_csv('temp_room3_datetime.csv')\n",
    "\n",
    "#df.head(10)\n",
    "df.tail(10)\n",
    "len(df)"
   ]
  },
  {
   "cell_type": "code",
   "execution_count": 436,
   "metadata": {},
   "outputs": [
    {
     "data": {
      "text/plain": [
       "(2740, 2)"
      ]
     },
     "execution_count": 436,
     "metadata": {},
     "output_type": "execute_result"
    }
   ],
   "source": [
    "#Neural Network cell-- 02\n",
    "\n",
    "df_per_day = df[['Timestamp','temp']] \n",
    "df_per_day.shape"
   ]
  },
  {
   "cell_type": "code",
   "execution_count": 437,
   "metadata": {},
   "outputs": [],
   "source": [
    "#Neural Network \"Rename-columns\" cell-- 03\n",
    "\n",
    "df_per_day.rename(columns={\"Timestamp\":\"ds\",\"temp\":\"y\"}, inplace=True)"
   ]
  },
  {
   "cell_type": "code",
   "execution_count": 438,
   "metadata": {},
   "outputs": [],
   "source": [
    "#Neural Network \"train-test\" cell-- 04\n",
    "\n",
    "#train = df_per_day[:219]\n",
    "train = df_per_day[:]\n",
    "test = df_per_day[219:]\n",
    "#test = df_per_day[548:]\n",
    "#train.tail()"
   ]
  },
  {
   "cell_type": "code",
   "execution_count": 439,
   "metadata": {},
   "outputs": [],
   "source": [
    "#Neural Network \"NeuralProphet-algorithm\" cell-- 05\n",
    "\n",
    "#Model \n",
    "\n",
    "m = NeuralProphet()"
   ]
  },
  {
   "cell_type": "code",
   "execution_count": 440,
   "metadata": {},
   "outputs": [
    {
     "name": "stderr",
     "output_type": "stream",
     "text": [
      "INFO - (NP.utils.set_auto_seasonalities) - Disabling yearly seasonality. Run NeuralProphet with yearly_seasonality=True to override this.\n",
      "INFO - (NP.config.set_auto_batch_epoch) - Auto-set batch_size to 32\n"
     ]
    },
    {
     "data": {
      "application/vnd.jupyter.widget-view+json": {
       "model_id": "57f62c5bb75f4e01a0f780a1195abf5b",
       "version_major": 2,
       "version_minor": 0
      },
      "text/plain": [
       "HBox(children=(HTML(value=''), FloatProgress(value=0.0, max=271.0), HTML(value='')))"
      ]
     },
     "metadata": {},
     "output_type": "display_data"
    },
    {
     "name": "stderr",
     "output_type": "stream",
     "text": [
      "INFO - (NP.utils_torch.lr_range_test) - lr-range-test results: steep: 4.56E-02, min: 1.05E+00\n",
      "INFO - (NP.utils_torch.lr_range_test) - learning rate range test selected lr: 3.70E-01\n",
      "Epoch[100/100]: 100%|████████████| 100/100 [00:14<00:00,  6.70it/s, SmoothL1Loss=0.00285, MAE=1.38, MSE=3.1, RegLoss=0]\n"
     ]
    }
   ],
   "source": [
    "#Neural Network \"Run-Model\" cell-- 06\n",
    "\n",
    "#Fit Model\n",
    "\n",
    "model = m.fit(train, freq='D', epochs=100)"
   ]
  },
  {
   "cell_type": "code",
   "execution_count": 441,
   "metadata": {},
   "outputs": [
    {
     "data": {
      "text/html": [
       "<div>\n",
       "<style scoped>\n",
       "    .dataframe tbody tr th:only-of-type {\n",
       "        vertical-align: middle;\n",
       "    }\n",
       "\n",
       "    .dataframe tbody tr th {\n",
       "        vertical-align: top;\n",
       "    }\n",
       "\n",
       "    .dataframe thead th {\n",
       "        text-align: right;\n",
       "    }\n",
       "</style>\n",
       "<table border=\"1\" class=\"dataframe\">\n",
       "  <thead>\n",
       "    <tr style=\"text-align: right;\">\n",
       "      <th></th>\n",
       "      <th>ds</th>\n",
       "      <th>y</th>\n",
       "      <th>t</th>\n",
       "      <th>y_scaled</th>\n",
       "    </tr>\n",
       "  </thead>\n",
       "  <tbody>\n",
       "    <tr>\n",
       "      <th>0</th>\n",
       "      <td>2021-06-24 19:30:00</td>\n",
       "      <td>None</td>\n",
       "      <td>1.047291</td>\n",
       "      <td>NaN</td>\n",
       "    </tr>\n",
       "    <tr>\n",
       "      <th>1</th>\n",
       "      <td>2021-06-25 19:30:00</td>\n",
       "      <td>None</td>\n",
       "      <td>1.094581</td>\n",
       "      <td>NaN</td>\n",
       "    </tr>\n",
       "    <tr>\n",
       "      <th>2</th>\n",
       "      <td>2021-06-26 19:30:00</td>\n",
       "      <td>None</td>\n",
       "      <td>1.141872</td>\n",
       "      <td>NaN</td>\n",
       "    </tr>\n",
       "    <tr>\n",
       "      <th>3</th>\n",
       "      <td>2021-06-27 19:30:00</td>\n",
       "      <td>None</td>\n",
       "      <td>1.189163</td>\n",
       "      <td>NaN</td>\n",
       "    </tr>\n",
       "    <tr>\n",
       "      <th>4</th>\n",
       "      <td>2021-06-28 19:30:00</td>\n",
       "      <td>None</td>\n",
       "      <td>1.236453</td>\n",
       "      <td>NaN</td>\n",
       "    </tr>\n",
       "  </tbody>\n",
       "</table>\n",
       "</div>"
      ],
      "text/plain": [
       "                   ds     y         t y_scaled\n",
       "0 2021-06-24 19:30:00  None  1.047291      NaN\n",
       "1 2021-06-25 19:30:00  None  1.094581      NaN\n",
       "2 2021-06-26 19:30:00  None  1.141872      NaN\n",
       "3 2021-06-27 19:30:00  None  1.189163      NaN\n",
       "4 2021-06-28 19:30:00  None  1.236453      NaN"
      ]
     },
     "execution_count": 441,
     "metadata": {},
     "output_type": "execute_result"
    }
   ],
   "source": [
    "#Neural Network \"Future-Date\" cell-- 07\n",
    "\n",
    "#Future Date\n",
    "\n",
    "future_dates = m.make_future_dataframe(train, periods=34)\n",
    "\n",
    "future_dates.head()"
   ]
  },
  {
   "cell_type": "code",
   "execution_count": 442,
   "metadata": {},
   "outputs": [
    {
     "data": {
      "text/html": [
       "<div>\n",
       "<style scoped>\n",
       "    .dataframe tbody tr th:only-of-type {\n",
       "        vertical-align: middle;\n",
       "    }\n",
       "\n",
       "    .dataframe tbody tr th {\n",
       "        vertical-align: top;\n",
       "    }\n",
       "\n",
       "    .dataframe thead th {\n",
       "        text-align: right;\n",
       "    }\n",
       "</style>\n",
       "<table border=\"1\" class=\"dataframe\">\n",
       "  <thead>\n",
       "    <tr style=\"text-align: right;\">\n",
       "      <th></th>\n",
       "      <th>ds</th>\n",
       "      <th>y</th>\n",
       "      <th>yhat1</th>\n",
       "      <th>residual1</th>\n",
       "      <th>trend</th>\n",
       "      <th>season_weekly</th>\n",
       "      <th>season_daily</th>\n",
       "    </tr>\n",
       "  </thead>\n",
       "  <tbody>\n",
       "    <tr>\n",
       "      <th>0</th>\n",
       "      <td>2021-06-24 19:30:00</td>\n",
       "      <td>None</td>\n",
       "      <td>18.671490</td>\n",
       "      <td>NaN</td>\n",
       "      <td>14.718102</td>\n",
       "      <td>0.717849</td>\n",
       "      <td>3.23554</td>\n",
       "    </tr>\n",
       "    <tr>\n",
       "      <th>1</th>\n",
       "      <td>2021-06-25 19:30:00</td>\n",
       "      <td>None</td>\n",
       "      <td>18.305811</td>\n",
       "      <td>NaN</td>\n",
       "      <td>15.009701</td>\n",
       "      <td>0.060570</td>\n",
       "      <td>3.23554</td>\n",
       "    </tr>\n",
       "    <tr>\n",
       "      <th>2</th>\n",
       "      <td>2021-06-26 19:30:00</td>\n",
       "      <td>None</td>\n",
       "      <td>18.585035</td>\n",
       "      <td>NaN</td>\n",
       "      <td>15.301302</td>\n",
       "      <td>0.048194</td>\n",
       "      <td>3.23554</td>\n",
       "    </tr>\n",
       "    <tr>\n",
       "      <th>3</th>\n",
       "      <td>2021-06-27 19:30:00</td>\n",
       "      <td>None</td>\n",
       "      <td>17.223650</td>\n",
       "      <td>NaN</td>\n",
       "      <td>15.592901</td>\n",
       "      <td>-1.604791</td>\n",
       "      <td>3.23554</td>\n",
       "    </tr>\n",
       "    <tr>\n",
       "      <th>4</th>\n",
       "      <td>2021-06-28 19:30:00</td>\n",
       "      <td>None</td>\n",
       "      <td>18.496969</td>\n",
       "      <td>NaN</td>\n",
       "      <td>15.884501</td>\n",
       "      <td>-0.623071</td>\n",
       "      <td>3.23554</td>\n",
       "    </tr>\n",
       "    <tr>\n",
       "      <th>5</th>\n",
       "      <td>2021-06-29 19:30:00</td>\n",
       "      <td>None</td>\n",
       "      <td>20.045086</td>\n",
       "      <td>NaN</td>\n",
       "      <td>16.176102</td>\n",
       "      <td>0.633446</td>\n",
       "      <td>3.23554</td>\n",
       "    </tr>\n",
       "    <tr>\n",
       "      <th>6</th>\n",
       "      <td>2021-06-30 19:30:00</td>\n",
       "      <td>None</td>\n",
       "      <td>20.471045</td>\n",
       "      <td>NaN</td>\n",
       "      <td>16.467703</td>\n",
       "      <td>0.767803</td>\n",
       "      <td>3.23554</td>\n",
       "    </tr>\n",
       "    <tr>\n",
       "      <th>7</th>\n",
       "      <td>2021-07-01 19:30:00</td>\n",
       "      <td>None</td>\n",
       "      <td>20.712690</td>\n",
       "      <td>NaN</td>\n",
       "      <td>16.759302</td>\n",
       "      <td>0.717849</td>\n",
       "      <td>3.23554</td>\n",
       "    </tr>\n",
       "    <tr>\n",
       "      <th>8</th>\n",
       "      <td>2021-07-02 19:30:00</td>\n",
       "      <td>None</td>\n",
       "      <td>20.347012</td>\n",
       "      <td>NaN</td>\n",
       "      <td>17.050901</td>\n",
       "      <td>0.060570</td>\n",
       "      <td>3.23554</td>\n",
       "    </tr>\n",
       "    <tr>\n",
       "      <th>9</th>\n",
       "      <td>2021-07-03 19:30:00</td>\n",
       "      <td>None</td>\n",
       "      <td>20.626236</td>\n",
       "      <td>NaN</td>\n",
       "      <td>17.342501</td>\n",
       "      <td>0.048194</td>\n",
       "      <td>3.23554</td>\n",
       "    </tr>\n",
       "    <tr>\n",
       "      <th>10</th>\n",
       "      <td>2021-07-04 19:30:00</td>\n",
       "      <td>None</td>\n",
       "      <td>19.264851</td>\n",
       "      <td>NaN</td>\n",
       "      <td>17.634102</td>\n",
       "      <td>-1.604791</td>\n",
       "      <td>3.23554</td>\n",
       "    </tr>\n",
       "    <tr>\n",
       "      <th>11</th>\n",
       "      <td>2021-07-05 19:30:00</td>\n",
       "      <td>None</td>\n",
       "      <td>20.538170</td>\n",
       "      <td>NaN</td>\n",
       "      <td>17.925701</td>\n",
       "      <td>-0.623071</td>\n",
       "      <td>3.23554</td>\n",
       "    </tr>\n",
       "  </tbody>\n",
       "</table>\n",
       "</div>"
      ],
      "text/plain": [
       "                    ds     y      yhat1 residual1      trend  season_weekly  \\\n",
       "0  2021-06-24 19:30:00  None  18.671490       NaN  14.718102       0.717849   \n",
       "1  2021-06-25 19:30:00  None  18.305811       NaN  15.009701       0.060570   \n",
       "2  2021-06-26 19:30:00  None  18.585035       NaN  15.301302       0.048194   \n",
       "3  2021-06-27 19:30:00  None  17.223650       NaN  15.592901      -1.604791   \n",
       "4  2021-06-28 19:30:00  None  18.496969       NaN  15.884501      -0.623071   \n",
       "5  2021-06-29 19:30:00  None  20.045086       NaN  16.176102       0.633446   \n",
       "6  2021-06-30 19:30:00  None  20.471045       NaN  16.467703       0.767803   \n",
       "7  2021-07-01 19:30:00  None  20.712690       NaN  16.759302       0.717849   \n",
       "8  2021-07-02 19:30:00  None  20.347012       NaN  17.050901       0.060570   \n",
       "9  2021-07-03 19:30:00  None  20.626236       NaN  17.342501       0.048194   \n",
       "10 2021-07-04 19:30:00  None  19.264851       NaN  17.634102      -1.604791   \n",
       "11 2021-07-05 19:30:00  None  20.538170       NaN  17.925701      -0.623071   \n",
       "\n",
       "    season_daily  \n",
       "0        3.23554  \n",
       "1        3.23554  \n",
       "2        3.23554  \n",
       "3        3.23554  \n",
       "4        3.23554  \n",
       "5        3.23554  \n",
       "6        3.23554  \n",
       "7        3.23554  \n",
       "8        3.23554  \n",
       "9        3.23554  \n",
       "10       3.23554  \n",
       "11       3.23554  "
      ]
     },
     "execution_count": 442,
     "metadata": {},
     "output_type": "execute_result"
    }
   ],
   "source": [
    "#Neural Network \"Prediction-future-values\" cell-- 08\n",
    "\n",
    "\n",
    "prediction = m.predict(future_dates)\n",
    "prediction.head(12)\n",
    "#print(prediction)"
   ]
  },
  {
   "cell_type": "code",
   "execution_count": 443,
   "metadata": {},
   "outputs": [
    {
     "name": "stdout",
     "output_type": "stream",
     "text": [
      "<class 'pandas.core.frame.DataFrame'>\n",
      "RangeIndex: 34 entries, 0 to 33\n",
      "Data columns (total 7 columns):\n",
      " #   Column         Non-Null Count  Dtype         \n",
      "---  ------         --------------  -----         \n",
      " 0   ds             34 non-null     datetime64[ns]\n",
      " 1   y              0 non-null      object        \n",
      " 2   yhat1          34 non-null     float64       \n",
      " 3   residual1      0 non-null      object        \n",
      " 4   trend          34 non-null     float64       \n",
      " 5   season_weekly  34 non-null     float64       \n",
      " 6   season_daily   34 non-null     float64       \n",
      "dtypes: datetime64[ns](1), float64(4), object(2)\n",
      "memory usage: 2.0+ KB\n"
     ]
    }
   ],
   "source": [
    "#Neural Network \"Table-info\" cell-- 09\n",
    "\n",
    "prediction.info()"
   ]
  },
  {
   "cell_type": "code",
   "execution_count": 444,
   "metadata": {},
   "outputs": [
    {
     "name": "stdout",
     "output_type": "stream",
     "text": [
      "                    ds      yhat1\n",
      "0  2021-06-24 19:30:00  18.671490\n",
      "1  2021-06-25 19:30:00  18.305811\n",
      "2  2021-06-26 19:30:00  18.585035\n",
      "3  2021-06-27 19:30:00  17.223650\n",
      "4  2021-06-28 19:30:00  18.496969\n",
      "5  2021-06-29 19:30:00  20.045086\n",
      "6  2021-06-30 19:30:00  20.471045\n",
      "7  2021-07-01 19:30:00  20.712690\n",
      "8  2021-07-02 19:30:00  20.347012\n",
      "9  2021-07-03 19:30:00  20.626236\n",
      "10 2021-07-04 19:30:00  19.264851\n",
      "11 2021-07-05 19:30:00  20.538170\n",
      "12 2021-07-06 19:30:00  22.086288\n",
      "13 2021-07-07 19:30:00  22.512245\n",
      "14 2021-07-08 19:30:00  22.753891\n",
      "15 2021-07-09 19:30:00  22.388212\n",
      "16 2021-07-10 19:30:00  22.667435\n",
      "17 2021-07-11 19:30:00  21.306051\n",
      "18 2021-07-12 19:30:00  22.579370\n",
      "19 2021-07-13 19:30:00  24.127489\n",
      "20 2021-07-14 19:30:00  24.553446\n",
      "21 2021-07-15 19:30:00  24.795090\n",
      "22 2021-07-16 19:30:00  24.429411\n",
      "23 2021-07-17 19:30:00  24.708637\n",
      "24 2021-07-18 19:30:00  23.347252\n",
      "25 2021-07-19 19:30:00  24.620571\n",
      "26 2021-07-20 19:30:00  26.168688\n",
      "27 2021-07-21 19:30:00  26.594646\n",
      "28 2021-07-22 19:30:00  26.836290\n",
      "29 2021-07-23 19:30:00  26.470613\n",
      "30 2021-07-24 19:30:00  26.749838\n",
      "31 2021-07-25 19:30:00  25.388451\n",
      "32 2021-07-26 19:30:00  26.661772\n",
      "33 2021-07-27 19:30:00  28.209887\n"
     ]
    }
   ],
   "source": [
    "#Neural Network \"separate-Columns-from-Table\" cell-- 10\n",
    "\n",
    "df2 = pd.DataFrame(prediction, columns=['ds','yhat1']).copy()\n",
    "\n",
    "print(df2)"
   ]
  },
  {
   "cell_type": "code",
   "execution_count": 445,
   "metadata": {},
   "outputs": [
    {
     "name": "stdout",
     "output_type": "stream",
     "text": [
      "                   ds     yhat1\n",
      "0 2021-06-24 19:30:00  18.67149\n"
     ]
    }
   ],
   "source": [
    "#Neural Network \"slice-row-with-Timestamp\" cell-- 11\n",
    "\n",
    "df3 = df2.loc[(df2.ds == '2021-06-24 19:30:00')].copy()\n",
    "print(df3)"
   ]
  },
  {
   "cell_type": "code",
   "execution_count": 446,
   "metadata": {},
   "outputs": [
    {
     "name": "stdout",
     "output_type": "stream",
     "text": [
      "            temp_mean\n",
      "Timestamp            \n",
      "2021-06-24   18.67149\n"
     ]
    }
   ],
   "source": [
    "#Neural Network \"rename-columns-and-set_index\" cell-- 14\n",
    "\n",
    "df3.rename(columns={'ds':'Timestamp','yhat1':'temp_mean'}, inplace=True)\n",
    "df3['Timestamp'] = pd.to_datetime(df3['Timestamp']).dt.date\n",
    "df3.set_index('Timestamp', inplace=True)\n",
    "\n",
    "print(df3)"
   ]
  },
  {
   "cell_type": "code",
   "execution_count": 447,
   "metadata": {},
   "outputs": [],
   "source": [
    "# Room3 Temp csv file -- cell -1\n",
    "\n",
    "df_2 = pd.read_csv('temp_room3_datetime.csv', parse_dates=[\"Timestamp\"], index_col=\"Timestamp\", encoding='utf-8')"
   ]
  },
  {
   "cell_type": "code",
   "execution_count": 448,
   "metadata": {},
   "outputs": [],
   "source": [
    "# Room3 Temp Mean value -- cell -2\n",
    "\n",
    "df_mean_room3 = df_2.groupby(pd.Grouper(freq='d')).mean().dropna().rename(columns={\"temp\":\"temp_mean\"}).copy()"
   ]
  },
  {
   "cell_type": "code",
   "execution_count": 449,
   "metadata": {},
   "outputs": [
    {
     "name": "stdout",
     "output_type": "stream",
     "text": [
      "            temp_mean\n",
      "2021-06-02  14.187500\n",
      "2021-06-03  14.795105\n",
      "2021-06-04  14.490210\n",
      "2021-06-05  18.130657\n",
      "2021-06-06  20.466434\n",
      "2021-06-07  21.267133\n",
      "2021-06-08  21.597203\n",
      "2021-06-09  21.608392\n",
      "2021-06-10  23.147552\n",
      "2021-06-11  23.676923\n",
      "2021-06-12  20.379720\n",
      "2021-06-13  19.487324\n",
      "2021-06-14  21.547552\n",
      "2021-06-15  22.995804\n",
      "2021-06-16  19.618182\n",
      "2021-06-17  15.530769\n",
      "2021-06-18  14.169231\n",
      "2021-06-19  13.585315\n",
      "2021-06-20  11.414583\n",
      "2021-06-21  15.986747\n",
      "2021-06-22   9.976190\n",
      "2021-06-23  21.123077\n",
      "2021-06-24        NaN\n"
     ]
    }
   ],
   "source": [
    "# Room2 Temp Mean value -- cell -3\n",
    "\n",
    "idx = pd.date_range('2021-06-02','2021-06-24')\n",
    "df_mean_room3.index = pd.DatetimeIndex(df_mean_room3.index)\n",
    "df_mean_room3 = df_mean_room3.reindex(idx,fill_value=np.nan).copy()\n",
    "\n",
    "print(df_mean_room3)"
   ]
  },
  {
   "cell_type": "code",
   "execution_count": 450,
   "metadata": {},
   "outputs": [
    {
     "data": {
      "image/png": "[encoded data removed]",
      "text/plain": [
       "<Figure size 864x360 with 1 Axes>"
      ]
     },
     "metadata": {
      "needs_background": "light"
     },
     "output_type": "display_data"
    }
   ],
   "source": [
    "# Room3 Temp Mean value -- cell -4\n",
    "\n",
    "fig, ax = plt.subplots(figsize=(12,5))\n",
    "ax.set_ylim(0,26)\n",
    "\n",
    "ax.plot(df_mean_room3.loc['2021-06-02':'2021-06-24', 'temp_mean'], marker='o', linestyle='-')\n",
    "ax = plt.gca()\n",
    "plt.autoscale(True, axis='both')\n",
    "#plt.grid(True)\n",
    "ax.set_ylabel('Daily Temp ºC', fontsize=14)\n",
    "ax.set_xlabel('June 2021', fontsize=14)\n",
    "ax.set_title('June 2021 Outside Temp in ºC', fontsize=16)\n",
    "ax.xaxis.set_major_locator(mdates.DayLocator())\n",
    "ax.xaxis.set_major_formatter(mdates.DateFormatter('%d'))\n",
    "plt.grid(True)"
   ]
  },
  {
   "cell_type": "code",
   "execution_count": 451,
   "metadata": {},
   "outputs": [
    {
     "name": "stdout",
     "output_type": "stream",
     "text": [
      "            temp_mean\n",
      "2021-06-02  14.187500\n",
      "2021-06-03  14.795105\n",
      "2021-06-04  14.490210\n",
      "2021-06-05  18.130657\n",
      "2021-06-06  20.466434\n",
      "2021-06-07  21.267133\n",
      "2021-06-08  21.597203\n",
      "2021-06-09  21.608392\n",
      "2021-06-10  23.147552\n",
      "2021-06-11  23.676923\n",
      "2021-06-12  20.379720\n",
      "2021-06-13  19.487324\n",
      "2021-06-14  21.547552\n",
      "2021-06-15  22.995804\n",
      "2021-06-16  19.618182\n",
      "2021-06-17  15.530769\n",
      "2021-06-18  14.169231\n",
      "2021-06-19  13.585315\n",
      "2021-06-20  11.414583\n",
      "2021-06-21  15.986747\n",
      "2021-06-22   9.976190\n",
      "2021-06-23  21.123077\n",
      "2021-06-24  18.671490\n"
     ]
    }
   ],
   "source": [
    "# Room2 Temp Mean value -- cell -5\n",
    "\n",
    "df_mean_room3 = df_mean_room3.combine_first(df3).copy()\n",
    "\n",
    "print(df_mean_room3)"
   ]
  },
  {
   "cell_type": "code",
   "execution_count": 452,
   "metadata": {},
   "outputs": [],
   "source": [
    "# Room3 Temp value \"to SAVE in .csv\" -- cell -5\n",
    "\n",
    "#df_mean_room3.to_csv('missing_value_temp_outside.csv') # Save the file to .csv"
   ]
  },
  {
   "cell_type": "code",
   "execution_count": 453,
   "metadata": {},
   "outputs": [
    {
     "data": {
      "image/png": "[encoded data removed]",
      "text/plain": [
       "<Figure size 864x360 with 1 Axes>"
      ]
     },
     "metadata": {
      "needs_background": "light"
     },
     "output_type": "display_data"
    }
   ],
   "source": [
    "# Room3 Temp Mean value -- cell -6\n",
    "\n",
    "fig, ax = plt.subplots(figsize=(12,5))\n",
    "ax.set_ylim(0,26)\n",
    "\n",
    "ax.plot(df_mean_room3.loc['2021-06-02':'2021-06-23', 'temp_mean'], marker='o', linestyle='-',color='blue')\n",
    "ax.plot(df_mean_room3.loc['2021-06-23':'2021-06-24', 'temp_mean'], marker='o', linestyle='--',color='green')\n",
    "\n",
    "ax = plt.gca()\n",
    "plt.autoscale(True, axis='both')\n",
    "#plt.grid(True)\n",
    "ax.set_ylabel('Daily Temp ºC', fontsize=14)\n",
    "ax.set_xlabel('June 2021', fontsize=14)\n",
    "ax.set_title('June 2021 Outside Temp in ºC', fontsize=16)\n",
    "ax.xaxis.set_major_locator(mdates.DayLocator())\n",
    "ax.xaxis.set_major_formatter(mdates.DateFormatter('%d'))\n",
    "plt.grid(True)"
   ]
  },
  {
   "cell_type": "code",
   "execution_count": null,
   "metadata": {},
   "outputs": [],
   "source": []
  },
  {
   "cell_type": "code",
   "execution_count": null,
   "metadata": {},
   "outputs": [],
   "source": []
  },
  {
   "cell_type": "code",
   "execution_count": 454,
   "metadata": {},
   "outputs": [
    {
     "data": {
      "text/plain": [
       "array([21.12307692])"
      ]
     },
     "execution_count": 454,
     "metadata": {},
     "output_type": "execute_result"
    }
   ],
   "source": [
    "# original temp or observed value collected from df_mean_room3 on dated '2021-06-23'\n",
    "\n",
    "orig = df_mean_room3.iloc[-2].values\n",
    "orig"
   ]
  },
  {
   "cell_type": "code",
   "execution_count": 455,
   "metadata": {},
   "outputs": [
    {
     "data": {
      "text/plain": [
       "array([], dtype=float64)"
      ]
     },
     "execution_count": 455,
     "metadata": {},
     "output_type": "execute_result"
    }
   ],
   "source": [
    "# predicted value collected from df2 on dated '2021-06-23 02:50:00'\n",
    "\n",
    "predicted_value = df2.loc[(df2.ds == '2021-06-23 19:30:00')].copy()\n",
    "predicted_value['ds'] = pd.to_datetime(predicted_value['ds']).dt.date\n",
    "predicted_value.set_index('ds', inplace=True)\n",
    "predicted_value = predicted_value['yhat1'].values\n",
    "predicted_value\n"
   ]
  },
  {
   "cell_type": "code",
   "execution_count": 456,
   "metadata": {},
   "outputs": [
    {
     "name": "stderr",
     "output_type": "stream",
     "text": [
      "WARNING - (py.warnings._showwarnmsg) - C:\\Users\\Lenovo\\.conda\\envs\\tensorflow\\lib\\site-packages\\ipykernel_launcher.py:1: RuntimeWarning: Mean of empty slice.\n",
      "  \"\"\"Entry point for launching an IPython kernel.\n",
      "\n",
      "WARNING - (py.warnings._showwarnmsg) - C:\\Users\\Lenovo\\.conda\\envs\\tensorflow\\lib\\site-packages\\numpy\\core\\_methods.py:161: RuntimeWarning: invalid value encountered in double_scalars\n",
      "  ret = ret.dtype.type(ret / rcount)\n",
      "\n"
     ]
    },
    {
     "name": "stdout",
     "output_type": "stream",
     "text": [
      "Accuracy neuralProphet NN Model :  nan\n"
     ]
    }
   ],
   "source": [
    "print('Accuracy neuralProphet NN Model : ', 100 - (100 * (abs(orig-predicted_value)/orig)).mean())"
   ]
  },
  {
   "cell_type": "code",
   "execution_count": null,
   "metadata": {},
   "outputs": [],
   "source": []
  },
  {
   "cell_type": "code",
   "execution_count": 457,
   "metadata": {},
   "outputs": [
    {
     "data": {
      "text/html": [
       "<div>\n",
       "<style scoped>\n",
       "    .dataframe tbody tr th:only-of-type {\n",
       "        vertical-align: middle;\n",
       "    }\n",
       "\n",
       "    .dataframe tbody tr th {\n",
       "        vertical-align: top;\n",
       "    }\n",
       "\n",
       "    .dataframe thead th {\n",
       "        text-align: right;\n",
       "    }\n",
       "</style>\n",
       "<table border=\"1\" class=\"dataframe\">\n",
       "  <thead>\n",
       "    <tr style=\"text-align: right;\">\n",
       "      <th></th>\n",
       "      <th>ds</th>\n",
       "      <th>yhat1</th>\n",
       "    </tr>\n",
       "  </thead>\n",
       "  <tbody>\n",
       "    <tr>\n",
       "      <th>33</th>\n",
       "      <td>2021-07-27 19:30:00</td>\n",
       "      <td>28.209887</td>\n",
       "    </tr>\n",
       "  </tbody>\n",
       "</table>\n",
       "</div>"
      ],
      "text/plain": [
       "                    ds      yhat1\n",
       "33 2021-07-27 19:30:00  28.209887"
      ]
     },
     "execution_count": 457,
     "metadata": {},
     "output_type": "execute_result"
    }
   ],
   "source": [
    "df2.tail(1)"
   ]
  },
  {
   "cell_type": "code",
   "execution_count": null,
   "metadata": {},
   "outputs": [],
   "source": []
  },
  {
   "cell_type": "code",
   "execution_count": null,
   "metadata": {},
   "outputs": [],
   "source": []
  }
 ],
 "metadata": {
  "kernelspec": {
   "display_name": "Python 3",
   "language": "python",
   "name": "python3"
  },
  "language_info": {
   "codemirror_mode": {
    "name": "ipython",
    "version": 3
   },
   "file_extension": ".py",
   "mimetype": "text/x-python",
   "name": "python",
   "nbconvert_exporter": "python",
   "pygments_lexer": "ipython3",
   "version": "3.6.12"
  }
 },
 "nbformat": 4,
 "nbformat_minor": 4
}
