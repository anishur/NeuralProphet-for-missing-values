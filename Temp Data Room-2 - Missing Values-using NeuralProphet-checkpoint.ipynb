{
 "cells": [
  {
   "cell_type": "code",
   "execution_count": 32,
   "metadata": {},
   "outputs": [],
   "source": [
    "import pandas as pd\n",
    "import numpy as np\n",
    "from neuralprophet import NeuralProphet\n",
    "import pickle\n",
    "from datetime import datetime\n",
    "from matplotlib.pyplot import *\n",
    "import matplotlib.pylab as plt\n",
    "import seaborn as sns\n",
    "plt.close(\"all\")\n",
    "import matplotlib.ticker as mticker\n",
    "import matplotlib.dates as mdates\n",
    "%matplotlib inline"
   ]
  },
  {
   "cell_type": "code",
   "execution_count": 33,
   "metadata": {},
   "outputs": [
    {
     "data": {
      "text/html": [
       "<div>\n",
       "<style scoped>\n",
       "    .dataframe tbody tr th:only-of-type {\n",
       "        vertical-align: middle;\n",
       "    }\n",
       "\n",
       "    .dataframe tbody tr th {\n",
       "        vertical-align: top;\n",
       "    }\n",
       "\n",
       "    .dataframe thead th {\n",
       "        text-align: right;\n",
       "    }\n",
       "</style>\n",
       "<table border=\"1\" class=\"dataframe\">\n",
       "  <thead>\n",
       "    <tr style=\"text-align: right;\">\n",
       "      <th></th>\n",
       "      <th>Timestamp</th>\n",
       "      <th>temp</th>\n",
       "    </tr>\n",
       "  </thead>\n",
       "  <tbody>\n",
       "    <tr>\n",
       "      <th>0</th>\n",
       "      <td>6/2/21 16:00</td>\n",
       "      <td>23</td>\n",
       "    </tr>\n",
       "    <tr>\n",
       "      <th>1</th>\n",
       "      <td>6/2/21 16:10</td>\n",
       "      <td>23</td>\n",
       "    </tr>\n",
       "    <tr>\n",
       "      <th>2</th>\n",
       "      <td>6/2/21 16:20</td>\n",
       "      <td>24</td>\n",
       "    </tr>\n",
       "    <tr>\n",
       "      <th>3</th>\n",
       "      <td>6/2/21 16:30</td>\n",
       "      <td>24</td>\n",
       "    </tr>\n",
       "    <tr>\n",
       "      <th>4</th>\n",
       "      <td>6/2/21 16:40</td>\n",
       "      <td>24</td>\n",
       "    </tr>\n",
       "    <tr>\n",
       "      <th>5</th>\n",
       "      <td>6/2/21 16:50</td>\n",
       "      <td>24</td>\n",
       "    </tr>\n",
       "    <tr>\n",
       "      <th>6</th>\n",
       "      <td>6/2/21 17:00</td>\n",
       "      <td>24</td>\n",
       "    </tr>\n",
       "    <tr>\n",
       "      <th>7</th>\n",
       "      <td>6/2/21 17:10</td>\n",
       "      <td>24</td>\n",
       "    </tr>\n",
       "    <tr>\n",
       "      <th>8</th>\n",
       "      <td>6/2/21 17:20</td>\n",
       "      <td>24</td>\n",
       "    </tr>\n",
       "    <tr>\n",
       "      <th>9</th>\n",
       "      <td>6/2/21 17:30</td>\n",
       "      <td>24</td>\n",
       "    </tr>\n",
       "  </tbody>\n",
       "</table>\n",
       "</div>"
      ],
      "text/plain": [
       "      Timestamp  temp\n",
       "0  6/2/21 16:00    23\n",
       "1  6/2/21 16:10    23\n",
       "2  6/2/21 16:20    24\n",
       "3  6/2/21 16:30    24\n",
       "4  6/2/21 16:40    24\n",
       "5  6/2/21 16:50    24\n",
       "6  6/2/21 17:00    24\n",
       "7  6/2/21 17:10    24\n",
       "8  6/2/21 17:20    24\n",
       "9  6/2/21 17:30    24"
      ]
     },
     "execution_count": 33,
     "metadata": {},
     "output_type": "execute_result"
    }
   ],
   "source": [
    "#Neural Network \"read-csv-file-to-fill-up-missing-value\" cell-- 01\n",
    "\n",
    "df = pd.read_csv('temp_room2_datetime.csv')\n",
    "\n",
    "df.head(10)"
   ]
  },
  {
   "cell_type": "code",
   "execution_count": null,
   "metadata": {},
   "outputs": [],
   "source": []
  },
  {
   "cell_type": "code",
   "execution_count": 42,
   "metadata": {},
   "outputs": [],
   "source": [
    "#Neural Network \"Slice-rows-with-Timestamp\" cell-- 02\n",
    "\n",
    "df1 = df.loc[(df.Timestamp >= '6/2/21 16:00') & (df.Timestamp <= '6/8/21 23:50') ].copy()"
   ]
  },
  {
   "cell_type": "code",
   "execution_count": 43,
   "metadata": {},
   "outputs": [
    {
     "name": "stdout",
     "output_type": "stream",
     "text": [
      "        Timestamp  temp\n",
      "907  6/8/21 23:10    23\n",
      "908  6/8/21 23:20    23\n",
      "909  6/8/21 23:30    22\n",
      "910  6/8/21 23:40    22\n",
      "911  6/8/21 23:50    22\n",
      "<class 'pandas.core.frame.DataFrame'>\n",
      "Int64Index: 864 entries, 0 to 911\n",
      "Data columns (total 2 columns):\n",
      " #   Column     Non-Null Count  Dtype \n",
      "---  ------     --------------  ----- \n",
      " 0   Timestamp  864 non-null    object\n",
      " 1   temp       864 non-null    int64 \n",
      "dtypes: int64(1), object(1)\n",
      "memory usage: 20.2+ KB\n"
     ]
    }
   ],
   "source": [
    "#Neural Network \"print-dataframe\" cell-- 03\n",
    "\n",
    "print(df1.tail())\n",
    "df1.info()"
   ]
  },
  {
   "cell_type": "code",
   "execution_count": 44,
   "metadata": {},
   "outputs": [
    {
     "data": {
      "text/plain": [
       "(864, 2)"
      ]
     },
     "execution_count": 44,
     "metadata": {},
     "output_type": "execute_result"
    }
   ],
   "source": [
    "#Neural Network cell-- 04\n",
    "\n",
    "df_per_day = df1[['Timestamp','temp']] \n",
    "df_per_day.shape"
   ]
  },
  {
   "cell_type": "code",
   "execution_count": 46,
   "metadata": {},
   "outputs": [],
   "source": [
    "#Neural Network \"Rename-columns\" cell-- 05\n",
    "\n",
    "df_per_day.rename(columns={\"Timestamp\":\"ds\",\"temp\":\"y\"}, inplace=True)"
   ]
  },
  {
   "cell_type": "code",
   "execution_count": 47,
   "metadata": {},
   "outputs": [],
   "source": [
    "#Neural Network \"train-test\" cell-- 06\n",
    "\n",
    "#train = df_per_day[:219]\n",
    "train = df_per_day[:]\n",
    "test = df_per_day[219:]\n",
    "#train.tail()"
   ]
  },
  {
   "cell_type": "code",
   "execution_count": 48,
   "metadata": {},
   "outputs": [],
   "source": [
    "#Neural Network \"NeuralProphet-algorithm\" cell-- 07\n",
    "\n",
    "#Model \n",
    "\n",
    "m = NeuralProphet()"
   ]
  },
  {
   "cell_type": "code",
   "execution_count": 49,
   "metadata": {},
   "outputs": [
    {
     "name": "stderr",
     "output_type": "stream",
     "text": [
      "INFO - (NP.utils.set_auto_seasonalities) - Disabling yearly seasonality. Run NeuralProphet with yearly_seasonality=True to override this.\n",
      "INFO - (NP.utils.set_auto_seasonalities) - Disabling weekly seasonality. Run NeuralProphet with weekly_seasonality=True to override this.\n",
      "INFO - (NP.config.set_auto_batch_epoch) - Auto-set batch_size to 16\n"
     ]
    },
    {
     "data": {
      "application/vnd.jupyter.widget-view+json": {
       "model_id": "0f3f7ebab24146bf9c13e0b050417472",
       "version_major": 2,
       "version_minor": 0
      },
      "text/plain": [
       "HBox(children=(HTML(value=''), FloatProgress(value=0.0, max=247.0), HTML(value='')))"
      ]
     },
     "metadata": {},
     "output_type": "display_data"
    },
    {
     "name": "stderr",
     "output_type": "stream",
     "text": [
      "INFO - (NP.utils_torch.lr_range_test) - lr-range-test results: steep: 2.91E-02, min: 9.11E-01\n",
      "INFO - (NP.utils_torch.lr_range_test) - learning rate range test selected lr: 2.89E-01\n",
      "Epoch[1000/1000]: 100%|█████| 1000/1000 [01:11<00:00, 13.97it/s, SmoothL1Loss=0.00182, MAE=0.302, MSE=0.131, RegLoss=0]\n"
     ]
    }
   ],
   "source": [
    "#Neural Network \"Run-Model\" cell-- 08\n",
    "\n",
    "#Fit Model\n",
    "\n",
    "model = m.fit(train, freq='D', epochs=1000)"
   ]
  },
  {
   "cell_type": "code",
   "execution_count": 50,
   "metadata": {},
   "outputs": [
    {
     "data": {
      "text/html": [
       "<div>\n",
       "<style scoped>\n",
       "    .dataframe tbody tr th:only-of-type {\n",
       "        vertical-align: middle;\n",
       "    }\n",
       "\n",
       "    .dataframe tbody tr th {\n",
       "        vertical-align: top;\n",
       "    }\n",
       "\n",
       "    .dataframe thead th {\n",
       "        text-align: right;\n",
       "    }\n",
       "</style>\n",
       "<table border=\"1\" class=\"dataframe\">\n",
       "  <thead>\n",
       "    <tr style=\"text-align: right;\">\n",
       "      <th></th>\n",
       "      <th>ds</th>\n",
       "      <th>y</th>\n",
       "      <th>t</th>\n",
       "      <th>y_scaled</th>\n",
       "    </tr>\n",
       "  </thead>\n",
       "  <tbody>\n",
       "    <tr>\n",
       "      <th>0</th>\n",
       "      <td>2021-06-09 23:50:00</td>\n",
       "      <td>None</td>\n",
       "      <td>1.158068</td>\n",
       "      <td>NaN</td>\n",
       "    </tr>\n",
       "    <tr>\n",
       "      <th>1</th>\n",
       "      <td>2021-06-10 23:50:00</td>\n",
       "      <td>None</td>\n",
       "      <td>1.316136</td>\n",
       "      <td>NaN</td>\n",
       "    </tr>\n",
       "    <tr>\n",
       "      <th>2</th>\n",
       "      <td>2021-06-11 23:50:00</td>\n",
       "      <td>None</td>\n",
       "      <td>1.474204</td>\n",
       "      <td>NaN</td>\n",
       "    </tr>\n",
       "    <tr>\n",
       "      <th>3</th>\n",
       "      <td>2021-06-12 23:50:00</td>\n",
       "      <td>None</td>\n",
       "      <td>1.632272</td>\n",
       "      <td>NaN</td>\n",
       "    </tr>\n",
       "    <tr>\n",
       "      <th>4</th>\n",
       "      <td>2021-06-13 23:50:00</td>\n",
       "      <td>None</td>\n",
       "      <td>1.790340</td>\n",
       "      <td>NaN</td>\n",
       "    </tr>\n",
       "  </tbody>\n",
       "</table>\n",
       "</div>"
      ],
      "text/plain": [
       "                   ds     y         t y_scaled\n",
       "0 2021-06-09 23:50:00  None  1.158068      NaN\n",
       "1 2021-06-10 23:50:00  None  1.316136      NaN\n",
       "2 2021-06-11 23:50:00  None  1.474204      NaN\n",
       "3 2021-06-12 23:50:00  None  1.632272      NaN\n",
       "4 2021-06-13 23:50:00  None  1.790340      NaN"
      ]
     },
     "execution_count": 50,
     "metadata": {},
     "output_type": "execute_result"
    }
   ],
   "source": [
    "#Neural Network \"Future-Date\" cell-- 09\n",
    "\n",
    "#Future Date\n",
    "\n",
    "future_dates = m.make_future_dataframe(train, periods=35)\n",
    "\n",
    "future_dates.head()"
   ]
  },
  {
   "cell_type": "code",
   "execution_count": 51,
   "metadata": {},
   "outputs": [
    {
     "data": {
      "text/html": [
       "<div>\n",
       "<style scoped>\n",
       "    .dataframe tbody tr th:only-of-type {\n",
       "        vertical-align: middle;\n",
       "    }\n",
       "\n",
       "    .dataframe tbody tr th {\n",
       "        vertical-align: top;\n",
       "    }\n",
       "\n",
       "    .dataframe thead th {\n",
       "        text-align: right;\n",
       "    }\n",
       "</style>\n",
       "<table border=\"1\" class=\"dataframe\">\n",
       "  <thead>\n",
       "    <tr style=\"text-align: right;\">\n",
       "      <th></th>\n",
       "      <th>ds</th>\n",
       "      <th>y</th>\n",
       "      <th>yhat1</th>\n",
       "      <th>residual1</th>\n",
       "      <th>trend</th>\n",
       "      <th>season_daily</th>\n",
       "    </tr>\n",
       "  </thead>\n",
       "  <tbody>\n",
       "    <tr>\n",
       "      <th>0</th>\n",
       "      <td>2021-06-09 23:50:00</td>\n",
       "      <td>None</td>\n",
       "      <td>22.509737</td>\n",
       "      <td>NaN</td>\n",
       "      <td>22.778282</td>\n",
       "      <td>-0.268545</td>\n",
       "    </tr>\n",
       "    <tr>\n",
       "      <th>1</th>\n",
       "      <td>2021-06-10 23:50:00</td>\n",
       "      <td>None</td>\n",
       "      <td>22.748072</td>\n",
       "      <td>NaN</td>\n",
       "      <td>23.016617</td>\n",
       "      <td>-0.268545</td>\n",
       "    </tr>\n",
       "    <tr>\n",
       "      <th>2</th>\n",
       "      <td>2021-06-11 23:50:00</td>\n",
       "      <td>None</td>\n",
       "      <td>22.986408</td>\n",
       "      <td>NaN</td>\n",
       "      <td>23.254951</td>\n",
       "      <td>-0.268545</td>\n",
       "    </tr>\n",
       "    <tr>\n",
       "      <th>3</th>\n",
       "      <td>2021-06-12 23:50:00</td>\n",
       "      <td>None</td>\n",
       "      <td>23.224743</td>\n",
       "      <td>NaN</td>\n",
       "      <td>23.493286</td>\n",
       "      <td>-0.268545</td>\n",
       "    </tr>\n",
       "    <tr>\n",
       "      <th>4</th>\n",
       "      <td>2021-06-13 23:50:00</td>\n",
       "      <td>None</td>\n",
       "      <td>23.463078</td>\n",
       "      <td>NaN</td>\n",
       "      <td>23.731623</td>\n",
       "      <td>-0.268545</td>\n",
       "    </tr>\n",
       "  </tbody>\n",
       "</table>\n",
       "</div>"
      ],
      "text/plain": [
       "                   ds     y      yhat1 residual1      trend  season_daily\n",
       "0 2021-06-09 23:50:00  None  22.509737       NaN  22.778282     -0.268545\n",
       "1 2021-06-10 23:50:00  None  22.748072       NaN  23.016617     -0.268545\n",
       "2 2021-06-11 23:50:00  None  22.986408       NaN  23.254951     -0.268545\n",
       "3 2021-06-12 23:50:00  None  23.224743       NaN  23.493286     -0.268545\n",
       "4 2021-06-13 23:50:00  None  23.463078       NaN  23.731623     -0.268545"
      ]
     },
     "execution_count": 51,
     "metadata": {},
     "output_type": "execute_result"
    }
   ],
   "source": [
    "#Neural Network \"Prediction-future-values\" cell-- 10\n",
    "\n",
    "\n",
    "prediction = m.predict(future_dates)\n",
    "prediction.head()\n",
    "#print(prediction)"
   ]
  },
  {
   "cell_type": "code",
   "execution_count": 52,
   "metadata": {},
   "outputs": [
    {
     "name": "stdout",
     "output_type": "stream",
     "text": [
      "<class 'pandas.core.frame.DataFrame'>\n",
      "RangeIndex: 35 entries, 0 to 34\n",
      "Data columns (total 6 columns):\n",
      " #   Column        Non-Null Count  Dtype         \n",
      "---  ------        --------------  -----         \n",
      " 0   ds            35 non-null     datetime64[ns]\n",
      " 1   y             0 non-null      object        \n",
      " 2   yhat1         35 non-null     float64       \n",
      " 3   residual1     0 non-null      object        \n",
      " 4   trend         35 non-null     float64       \n",
      " 5   season_daily  35 non-null     float64       \n",
      "dtypes: datetime64[ns](1), float64(3), object(2)\n",
      "memory usage: 1.8+ KB\n"
     ]
    }
   ],
   "source": [
    "#Neural Network \"Table-info\" cell-- 11\n",
    "\n",
    "prediction.info()"
   ]
  },
  {
   "cell_type": "code",
   "execution_count": 54,
   "metadata": {},
   "outputs": [
    {
     "name": "stdout",
     "output_type": "stream",
     "text": [
      "                   ds      yhat1\n",
      "0 2021-06-09 23:50:00  22.509737\n",
      "1 2021-06-10 23:50:00  22.748072\n",
      "2 2021-06-11 23:50:00  22.986408\n",
      "3 2021-06-12 23:50:00  23.224743\n",
      "4 2021-06-13 23:50:00  23.463078\n"
     ]
    }
   ],
   "source": [
    "#Neural Network \"separate-Columns-from-Table\" cell-- 12\n",
    "\n",
    "df2 = pd.DataFrame(prediction, columns=['ds','yhat1'])\n",
    "\n",
    "print(df2.head())"
   ]
  },
  {
   "cell_type": "code",
   "execution_count": 66,
   "metadata": {},
   "outputs": [
    {
     "name": "stdout",
     "output_type": "stream",
     "text": [
      "                   ds      yhat1\n",
      "1 2021-06-10 23:50:00  22.748072\n",
      "2 2021-06-11 23:50:00  22.986408\n",
      "3 2021-06-12 23:50:00  23.224743\n",
      "4 2021-06-13 23:50:00  23.463078\n"
     ]
    }
   ],
   "source": [
    "#Neural Network \"slice-row-with-Timestamp\" cell-- 13\n",
    "\n",
    "df3 = df2.loc[(df2.ds >= '2021-06-10 23:50:00') & (df2.ds <= '2021-06-13 23:50:00') ].copy()\n",
    "print(df3)"
   ]
  },
  {
   "cell_type": "code",
   "execution_count": 67,
   "metadata": {},
   "outputs": [
    {
     "name": "stdout",
     "output_type": "stream",
     "text": [
      "            temp_mean\n",
      "Timestamp            \n",
      "2021-06-10  22.748072\n",
      "2021-06-11  22.986408\n",
      "2021-06-12  23.224743\n",
      "2021-06-13  23.463078\n"
     ]
    }
   ],
   "source": [
    "#Neural Network \"rename-columns-and-set_index\" cell-- 14\n",
    "\n",
    "df3.rename(columns={'ds':'Timestamp','yhat1':'temp_mean'}, inplace=True)\n",
    "df3['Timestamp'] = pd.to_datetime(df3['Timestamp']).dt.date\n",
    "df3.set_index('Timestamp', inplace=True)\n",
    "\n",
    "print(df3)"
   ]
  },
  {
   "cell_type": "code",
   "execution_count": 69,
   "metadata": {},
   "outputs": [],
   "source": [
    "# Room2 Temp csv file -- cell -1\n",
    "\n",
    "df_2 = pd.read_csv('temp_room2_datetime.csv', parse_dates=[\"Timestamp\"], index_col=\"Timestamp\", encoding='utf-8')"
   ]
  },
  {
   "cell_type": "code",
   "execution_count": 71,
   "metadata": {},
   "outputs": [],
   "source": [
    "# Room2 Temp Mean value -- cell -2\n",
    "\n",
    "df_mean_room2 = df_2.groupby(pd.Grouper(freq='d')).mean().dropna().rename(columns={\"temp\":\"temp_mean\"}).copy()"
   ]
  },
  {
   "cell_type": "code",
   "execution_count": 73,
   "metadata": {},
   "outputs": [
    {
     "name": "stdout",
     "output_type": "stream",
     "text": [
      "            temp_mean\n",
      "2021-06-02  22.687500\n",
      "2021-06-03  21.041667\n",
      "2021-06-04  20.368056\n",
      "2021-06-05  20.868056\n",
      "2021-06-06  21.465278\n",
      "2021-06-07  21.944444\n",
      "2021-06-08  22.388889\n",
      "2021-06-09  22.172727\n",
      "2021-06-10        NaN\n",
      "2021-06-11        NaN\n",
      "2021-06-12        NaN\n",
      "2021-06-13        NaN\n",
      "2021-06-14  22.979167\n",
      "2021-06-15  24.138889\n",
      "2021-06-16  23.701389\n",
      "2021-06-17  23.395833\n",
      "2021-06-18  22.576389\n",
      "2021-06-19  21.812500\n",
      "2021-06-20  20.742268\n",
      "2021-06-21  21.142857\n",
      "2021-06-22  20.215278\n",
      "2021-06-23  20.562500\n",
      "2021-06-24  19.771930\n"
     ]
    }
   ],
   "source": [
    "# Room2 Temp Mean value -- cell -3\n",
    "\n",
    "idx = pd.date_range('2021-06-02','2021-06-24')\n",
    "df_mean_room2.index = pd.DatetimeIndex(df_mean_room2.index)\n",
    "df_mean_room2 = df_mean_room2.reindex(idx,fill_value=np.nan).copy()\n",
    "\n",
    "print(df_mean_room2)"
   ]
  },
  {
   "cell_type": "code",
   "execution_count": 75,
   "metadata": {},
   "outputs": [
    {
     "data": {
      "image/png": "[encoded data removed]",
      "text/plain": [
       "<Figure size 864x360 with 1 Axes>"
      ]
     },
     "metadata": {
      "needs_background": "light"
     },
     "output_type": "display_data"
    }
   ],
   "source": [
    "# Room2 Temp Mean value -- cell -4\n",
    "\n",
    "fig, ax = plt.subplots(figsize=(12,5))\n",
    "ax.set_ylim(0,26)\n",
    "\n",
    "ax.plot(df_mean_room2.loc['2021-06-02':'2021-06-24', 'temp_mean'], marker='o', linestyle='-')\n",
    "ax = plt.gca()\n",
    "plt.autoscale(True, axis='both')\n",
    "#plt.grid(True)\n",
    "ax.set_ylabel('Daily Temp ºC', fontsize=14)\n",
    "ax.set_xlabel('June 2021', fontsize=14)\n",
    "ax.set_title('June 2021 Room2 Temp in ºC', fontsize=16)\n",
    "ax.xaxis.set_major_locator(mdates.DayLocator())\n",
    "ax.xaxis.set_major_formatter(mdates.DateFormatter('%d'))\n",
    "plt.grid(True)"
   ]
  },
  {
   "cell_type": "code",
   "execution_count": 79,
   "metadata": {},
   "outputs": [
    {
     "name": "stdout",
     "output_type": "stream",
     "text": [
      "            temp_mean\n",
      "2021-06-02  22.687500\n",
      "2021-06-03  21.041667\n",
      "2021-06-04  20.368056\n",
      "2021-06-05  20.868056\n",
      "2021-06-06  21.465278\n",
      "2021-06-07  21.944444\n",
      "2021-06-08  22.388889\n",
      "2021-06-09  22.172727\n",
      "2021-06-10  22.748072\n",
      "2021-06-11  22.986408\n",
      "2021-06-12  23.224743\n",
      "2021-06-13  23.463078\n",
      "2021-06-14  22.979167\n",
      "2021-06-15  24.138889\n",
      "2021-06-16  23.701389\n",
      "2021-06-17  23.395833\n",
      "2021-06-18  22.576389\n",
      "2021-06-19  21.812500\n",
      "2021-06-20  20.742268\n",
      "2021-06-21  21.142857\n",
      "2021-06-22  20.215278\n",
      "2021-06-23  20.562500\n",
      "2021-06-24  19.771930\n"
     ]
    }
   ],
   "source": [
    "# Room2 Temp Mean value -- cell -5\n",
    "\n",
    "df_mean_room2 = df_mean_room2.combine_first(df3).copy()\n",
    "\n",
    "print(df_mean_room2)"
   ]
  },
  {
   "cell_type": "code",
   "execution_count": 82,
   "metadata": {},
   "outputs": [
    {
     "data": {
      "image/png": "[encoded data removed]",
      "text/plain": [
       "<Figure size 864x360 with 1 Axes>"
      ]
     },
     "metadata": {
      "needs_background": "light"
     },
     "output_type": "display_data"
    }
   ],
   "source": [
    "# Room2 Temp Mean value -- cell -6a\n",
    "\n",
    "fig, ax = plt.subplots(figsize=(12,5))\n",
    "ax.set_ylim(0,26)\n",
    "\n",
    "#ax.plot(df_mean_room2.loc['2021-06-02':'2021-06-24', 'temp_mean'], marker='o', linestyle='-')\n",
    "\n",
    "ax.plot(df_mean_room2.loc['2021-06-02':'2021-06-09', 'temp_mean'], marker='o', linestyle='-',color='blue')\n",
    "ax.plot(df_mean_room2.loc['2021-06-09':'2021-06-14', 'temp_mean'], marker='o', linestyle='--',color='green')\n",
    "ax.plot(df_mean_room2.loc['2021-06-14':'2021-06-24', 'temp_mean'], marker='o', linestyle='-',color='blue')\n",
    "\n",
    "\n",
    "ax = plt.gca()\n",
    "plt.autoscale(True, axis='both')\n",
    "#plt.grid(True)\n",
    "ax.set_ylabel('Daily Temp ºC', fontsize=14)\n",
    "ax.set_xlabel('June 2021', fontsize=14)\n",
    "ax.set_title('June 2021 Room2 Temp in ºC', fontsize=16)\n",
    "ax.xaxis.set_major_locator(mdates.DayLocator())\n",
    "ax.xaxis.set_major_formatter(mdates.DateFormatter('%d'))\n",
    "plt.grid(True)"
   ]
  },
  {
   "cell_type": "code",
   "execution_count": 22,
   "metadata": {},
   "outputs": [],
   "source": [
    "# Room2 Temp value \"to SAVE in .csv\" -- cell -5\n",
    "\n",
    "#df_mean_room2.to_csv('missing_value_temp_room2.csv') # Save the file to .csv"
   ]
  },
  {
   "cell_type": "code",
   "execution_count": 81,
   "metadata": {},
   "outputs": [
    {
     "data": {
      "image/png": "[encoded data removed]",
      "text/plain": [
       "<Figure size 864x360 with 1 Axes>"
      ]
     },
     "metadata": {
      "needs_background": "light"
     },
     "output_type": "display_data"
    }
   ],
   "source": [
    "# Room2 Temp Mean value -- cell -6\n",
    "\n",
    "fig, ax = plt.subplots(figsize=(12,5))\n",
    "ax.set_ylim(0,26)\n",
    "\n",
    "#ax.plot(df_mean_room2.loc['2021-06-02':'2021-06-24', 'temp_mean'], marker='o', linestyle='-')\n",
    "\n",
    "ax.plot(df_mean_room2.loc['2021-06-02':'2021-06-09', 'temp_mean'], marker='o', linestyle='-',color='blue')\n",
    "ax.plot(df_mean_room2.loc['2021-06-09':'2021-06-14', 'temp_mean'], marker='o', linestyle='--',color='green')\n",
    "ax.plot(df_mean_room2.loc['2021-06-14':'2021-06-24', 'temp_mean'], marker='o', linestyle='-',color='blue')\n",
    "\n",
    "\n",
    "ax = plt.gca()\n",
    "plt.autoscale(True, axis='both')\n",
    "#plt.grid(True)\n",
    "ax.set_ylabel('Daily Temp ºC', fontsize=14)\n",
    "ax.set_xlabel('June 2021', fontsize=14)\n",
    "ax.set_title('June 2021 Room2 Temp in ºC', fontsize=16)\n",
    "ax.xaxis.set_major_locator(mdates.DayLocator())\n",
    "ax.xaxis.set_major_formatter(mdates.DateFormatter('%d'))\n",
    "plt.grid(True)"
   ]
  },
  {
   "cell_type": "code",
   "execution_count": null,
   "metadata": {},
   "outputs": [],
   "source": []
  },
  {
   "cell_type": "code",
   "execution_count": null,
   "metadata": {},
   "outputs": [],
   "source": []
  },
  {
   "cell_type": "code",
   "execution_count": null,
   "metadata": {},
   "outputs": [],
   "source": []
  },
  {
   "cell_type": "code",
   "execution_count": null,
   "metadata": {},
   "outputs": [],
   "source": [
    "#plot\n",
    "\n",
    "m.plot(prediction)\n"
   ]
  },
  {
   "cell_type": "code",
   "execution_count": null,
   "metadata": {},
   "outputs": [],
   "source": [
    "component = m.plot_components(prediction)"
   ]
  },
  {
   "cell_type": "code",
   "execution_count": null,
   "metadata": {},
   "outputs": [],
   "source": []
  },
  {
   "cell_type": "code",
   "execution_count": null,
   "metadata": {},
   "outputs": [],
   "source": []
  },
  {
   "cell_type": "code",
   "execution_count": 13,
   "metadata": {},
   "outputs": [],
   "source": [
    "df = pd.read_csv('temp_room2_datetime.csv', parse_dates=[\"Timestamp\"], index_col=\"Timestamp\", encoding='utf-8')"
   ]
  },
  {
   "cell_type": "code",
   "execution_count": 14,
   "metadata": {},
   "outputs": [],
   "source": [
    "df_mean = df.groupby(pd.Grouper(freq='d')).mean().dropna().rename(columns={\"temp\":\"temp_mean\"}).copy()"
   ]
  },
  {
   "cell_type": "code",
   "execution_count": 15,
   "metadata": {},
   "outputs": [
    {
     "ename": "KeyError",
     "evalue": "\"['Timestamp'] not in index\"",
     "output_type": "error",
     "traceback": [
      "\u001b[1;31m---------------------------------------------------------------------------\u001b[0m",
      "\u001b[1;31mKeyError\u001b[0m                                  Traceback (most recent call last)",
      "\u001b[1;32m<ipython-input-15-e9e4344cbaf0>\u001b[0m in \u001b[0;36m<module>\u001b[1;34m\u001b[0m\n\u001b[1;32m----> 1\u001b[1;33m \u001b[0mdf_per_day\u001b[0m \u001b[1;33m=\u001b[0m \u001b[0mdf_mean\u001b[0m\u001b[1;33m[\u001b[0m\u001b[1;33m[\u001b[0m\u001b[1;34m'Timestamp'\u001b[0m\u001b[1;33m,\u001b[0m\u001b[1;34m'temp_mean'\u001b[0m\u001b[1;33m]\u001b[0m\u001b[1;33m]\u001b[0m\u001b[1;33m\u001b[0m\u001b[1;33m\u001b[0m\u001b[0m\n\u001b[0m\u001b[0;32m      2\u001b[0m \u001b[0mdf_per_day\u001b[0m\u001b[1;33m.\u001b[0m\u001b[0mshape\u001b[0m\u001b[1;33m\u001b[0m\u001b[1;33m\u001b[0m\u001b[0m\n",
      "\u001b[1;32m~\\.conda\\envs\\tensorflow\\lib\\site-packages\\pandas\\core\\frame.py\u001b[0m in \u001b[0;36m__getitem__\u001b[1;34m(self, key)\u001b[0m\n\u001b[0;32m   2906\u001b[0m             \u001b[1;32mif\u001b[0m \u001b[0mis_iterator\u001b[0m\u001b[1;33m(\u001b[0m\u001b[0mkey\u001b[0m\u001b[1;33m)\u001b[0m\u001b[1;33m:\u001b[0m\u001b[1;33m\u001b[0m\u001b[1;33m\u001b[0m\u001b[0m\n\u001b[0;32m   2907\u001b[0m                 \u001b[0mkey\u001b[0m \u001b[1;33m=\u001b[0m \u001b[0mlist\u001b[0m\u001b[1;33m(\u001b[0m\u001b[0mkey\u001b[0m\u001b[1;33m)\u001b[0m\u001b[1;33m\u001b[0m\u001b[1;33m\u001b[0m\u001b[0m\n\u001b[1;32m-> 2908\u001b[1;33m             \u001b[0mindexer\u001b[0m \u001b[1;33m=\u001b[0m \u001b[0mself\u001b[0m\u001b[1;33m.\u001b[0m\u001b[0mloc\u001b[0m\u001b[1;33m.\u001b[0m\u001b[0m_get_listlike_indexer\u001b[0m\u001b[1;33m(\u001b[0m\u001b[0mkey\u001b[0m\u001b[1;33m,\u001b[0m \u001b[0maxis\u001b[0m\u001b[1;33m=\u001b[0m\u001b[1;36m1\u001b[0m\u001b[1;33m,\u001b[0m \u001b[0mraise_missing\u001b[0m\u001b[1;33m=\u001b[0m\u001b[1;32mTrue\u001b[0m\u001b[1;33m)\u001b[0m\u001b[1;33m[\u001b[0m\u001b[1;36m1\u001b[0m\u001b[1;33m]\u001b[0m\u001b[1;33m\u001b[0m\u001b[1;33m\u001b[0m\u001b[0m\n\u001b[0m\u001b[0;32m   2909\u001b[0m \u001b[1;33m\u001b[0m\u001b[0m\n\u001b[0;32m   2910\u001b[0m         \u001b[1;31m# take() does not accept boolean indexers\u001b[0m\u001b[1;33m\u001b[0m\u001b[1;33m\u001b[0m\u001b[1;33m\u001b[0m\u001b[0m\n",
      "\u001b[1;32m~\\.conda\\envs\\tensorflow\\lib\\site-packages\\pandas\\core\\indexing.py\u001b[0m in \u001b[0;36m_get_listlike_indexer\u001b[1;34m(self, key, axis, raise_missing)\u001b[0m\n\u001b[0;32m   1252\u001b[0m             \u001b[0mkeyarr\u001b[0m\u001b[1;33m,\u001b[0m \u001b[0mindexer\u001b[0m\u001b[1;33m,\u001b[0m \u001b[0mnew_indexer\u001b[0m \u001b[1;33m=\u001b[0m \u001b[0max\u001b[0m\u001b[1;33m.\u001b[0m\u001b[0m_reindex_non_unique\u001b[0m\u001b[1;33m(\u001b[0m\u001b[0mkeyarr\u001b[0m\u001b[1;33m)\u001b[0m\u001b[1;33m\u001b[0m\u001b[1;33m\u001b[0m\u001b[0m\n\u001b[0;32m   1253\u001b[0m \u001b[1;33m\u001b[0m\u001b[0m\n\u001b[1;32m-> 1254\u001b[1;33m         \u001b[0mself\u001b[0m\u001b[1;33m.\u001b[0m\u001b[0m_validate_read_indexer\u001b[0m\u001b[1;33m(\u001b[0m\u001b[0mkeyarr\u001b[0m\u001b[1;33m,\u001b[0m \u001b[0mindexer\u001b[0m\u001b[1;33m,\u001b[0m \u001b[0maxis\u001b[0m\u001b[1;33m,\u001b[0m \u001b[0mraise_missing\u001b[0m\u001b[1;33m=\u001b[0m\u001b[0mraise_missing\u001b[0m\u001b[1;33m)\u001b[0m\u001b[1;33m\u001b[0m\u001b[1;33m\u001b[0m\u001b[0m\n\u001b[0m\u001b[0;32m   1255\u001b[0m         \u001b[1;32mreturn\u001b[0m \u001b[0mkeyarr\u001b[0m\u001b[1;33m,\u001b[0m \u001b[0mindexer\u001b[0m\u001b[1;33m\u001b[0m\u001b[1;33m\u001b[0m\u001b[0m\n\u001b[0;32m   1256\u001b[0m \u001b[1;33m\u001b[0m\u001b[0m\n",
      "\u001b[1;32m~\\.conda\\envs\\tensorflow\\lib\\site-packages\\pandas\\core\\indexing.py\u001b[0m in \u001b[0;36m_validate_read_indexer\u001b[1;34m(self, key, indexer, axis, raise_missing)\u001b[0m\n\u001b[0;32m   1302\u001b[0m             \u001b[1;32mif\u001b[0m \u001b[0mraise_missing\u001b[0m\u001b[1;33m:\u001b[0m\u001b[1;33m\u001b[0m\u001b[1;33m\u001b[0m\u001b[0m\n\u001b[0;32m   1303\u001b[0m                 \u001b[0mnot_found\u001b[0m \u001b[1;33m=\u001b[0m \u001b[0mlist\u001b[0m\u001b[1;33m(\u001b[0m\u001b[0mset\u001b[0m\u001b[1;33m(\u001b[0m\u001b[0mkey\u001b[0m\u001b[1;33m)\u001b[0m \u001b[1;33m-\u001b[0m \u001b[0mset\u001b[0m\u001b[1;33m(\u001b[0m\u001b[0max\u001b[0m\u001b[1;33m)\u001b[0m\u001b[1;33m)\u001b[0m\u001b[1;33m\u001b[0m\u001b[1;33m\u001b[0m\u001b[0m\n\u001b[1;32m-> 1304\u001b[1;33m                 \u001b[1;32mraise\u001b[0m \u001b[0mKeyError\u001b[0m\u001b[1;33m(\u001b[0m\u001b[1;34mf\"{not_found} not in index\"\u001b[0m\u001b[1;33m)\u001b[0m\u001b[1;33m\u001b[0m\u001b[1;33m\u001b[0m\u001b[0m\n\u001b[0m\u001b[0;32m   1305\u001b[0m \u001b[1;33m\u001b[0m\u001b[0m\n\u001b[0;32m   1306\u001b[0m             \u001b[1;31m# we skip the warning on Categorical\u001b[0m\u001b[1;33m\u001b[0m\u001b[1;33m\u001b[0m\u001b[1;33m\u001b[0m\u001b[0m\n",
      "\u001b[1;31mKeyError\u001b[0m: \"['Timestamp'] not in index\""
     ]
    }
   ],
   "source": [
    "df_per_day = df_mean[['Timestamp','temp_mean']] \n",
    "df_per_day.shape"
   ]
  }
 ],
 "metadata": {
  "kernelspec": {
   "display_name": "Python 3",
   "language": "python",
   "name": "python3"
  },
  "language_info": {
   "codemirror_mode": {
    "name": "ipython",
    "version": 3
   },
   "file_extension": ".py",
   "mimetype": "text/x-python",
   "name": "python",
   "nbconvert_exporter": "python",
   "pygments_lexer": "ipython3",
   "version": "3.6.12"
  }
 },
 "nbformat": 4,
 "nbformat_minor": 4
}
